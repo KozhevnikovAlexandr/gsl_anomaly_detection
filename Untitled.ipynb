{
 "cells": [
  {
   "cell_type": "code",
   "execution_count": 2,
   "id": "b5caf66e-29ba-459c-a8da-53fbe3035b4b",
   "metadata": {
    "execution": {
     "iopub.execute_input": "2025-05-13T17:13:39.435450Z",
     "iopub.status.busy": "2025-05-13T17:13:39.435306Z",
     "iopub.status.idle": "2025-05-13T17:13:39.607404Z",
     "shell.execute_reply": "2025-05-13T17:13:39.606994Z",
     "shell.execute_reply.started": "2025-05-13T17:13:39.435439Z"
    }
   },
   "outputs": [],
   "source": [
    "import pandas as pd"
   ]
  },
  {
   "cell_type": "code",
   "execution_count": 3,
   "id": "e2c25144-eb8b-4b34-bf26-6efc0cd4ec10",
   "metadata": {
    "execution": {
     "iopub.execute_input": "2025-05-13T17:13:39.686146Z",
     "iopub.status.busy": "2025-05-13T17:13:39.685975Z",
     "iopub.status.idle": "2025-05-13T17:15:00.841043Z",
     "shell.execute_reply": "2025-05-13T17:15:00.840686Z",
     "shell.execute_reply.started": "2025-05-13T17:13:39.686135Z"
    },
    "scrolled": true
   },
   "outputs": [
    {
     "name": "stderr",
     "output_type": "stream",
     "text": [
      "/home/akozhevnikov/anaconda3/envs/torch/lib/python3.10/site-packages/openpyxl/worksheet/_reader.py:329: UserWarning: Unknown extension is not supported and will be removed\n",
      "  warn(msg)\n"
     ]
    }
   ],
   "source": [
    "df = pd.read_excel('SWaT_Dataset_Normal_v0.xlsx')"
   ]
  },
  {
   "cell_type": "code",
   "execution_count": 4,
   "id": "40c80b2e-81aa-48c4-80b1-c17593006b6a",
   "metadata": {
    "execution": {
     "iopub.execute_input": "2025-05-13T17:15:00.841862Z",
     "iopub.status.busy": "2025-05-13T17:15:00.841692Z",
     "iopub.status.idle": "2025-05-13T17:16:16.376572Z",
     "shell.execute_reply": "2025-05-13T17:16:16.376216Z",
     "shell.execute_reply.started": "2025-05-13T17:15:00.841852Z"
    }
   },
   "outputs": [
    {
     "name": "stderr",
     "output_type": "stream",
     "text": [
      "/home/akozhevnikov/anaconda3/envs/torch/lib/python3.10/site-packages/openpyxl/worksheet/_reader.py:329: UserWarning: Unknown extension is not supported and will be removed\n",
      "  warn(msg)\n"
     ]
    }
   ],
   "source": [
    "df2 = pd.read_excel('SWaT_Dataset_Attack_v0.xlsx')"
   ]
  },
  {
   "cell_type": "code",
   "execution_count": 8,
   "id": "84e3ce20-79b2-4d67-99d8-cb413f8f9882",
   "metadata": {
    "execution": {
     "iopub.execute_input": "2025-05-13T17:34:24.438357Z",
     "iopub.status.busy": "2025-05-13T17:34:24.438189Z",
     "iopub.status.idle": "2025-05-13T17:34:24.440923Z",
     "shell.execute_reply": "2025-05-13T17:34:24.440591Z",
     "shell.execute_reply.started": "2025-05-13T17:34:24.438345Z"
    }
   },
   "outputs": [],
   "source": [
    "c1 = [i.strip() for i in df.columns]\n",
    "c2 = [i.strip() for i in df2.columns]"
   ]
  },
  {
   "cell_type": "code",
   "execution_count": 9,
   "id": "57a22ab7-6bd8-4fc7-919f-2f3e8bd06b91",
   "metadata": {
    "execution": {
     "iopub.execute_input": "2025-05-13T17:34:31.391509Z",
     "iopub.status.busy": "2025-05-13T17:34:31.391340Z",
     "iopub.status.idle": "2025-05-13T17:34:31.394013Z",
     "shell.execute_reply": "2025-05-13T17:34:31.393651Z",
     "shell.execute_reply.started": "2025-05-13T17:34:31.391498Z"
    }
   },
   "outputs": [],
   "source": [
    "for i in c1:\n",
    "    if i not in c2:\n",
    "        print(i)"
   ]
  },
  {
   "cell_type": "code",
   "execution_count": 10,
   "id": "0834f503-9b93-4b37-a149-1dc77299cf5e",
   "metadata": {
    "execution": {
     "iopub.execute_input": "2025-05-13T17:34:43.327693Z",
     "iopub.status.busy": "2025-05-13T17:34:43.327526Z",
     "iopub.status.idle": "2025-05-13T17:34:43.330132Z",
     "shell.execute_reply": "2025-05-13T17:34:43.329787Z",
     "shell.execute_reply.started": "2025-05-13T17:34:43.327683Z"
    }
   },
   "outputs": [],
   "source": [
    "df.columns = c1"
   ]
  },
  {
   "cell_type": "code",
   "execution_count": 12,
   "id": "9c83a1e8-6e3f-4f81-84f6-d6e655f96797",
   "metadata": {
    "execution": {
     "iopub.execute_input": "2025-05-13T17:34:56.442098Z",
     "iopub.status.busy": "2025-05-13T17:34:56.441956Z",
     "iopub.status.idle": "2025-05-13T17:34:56.444547Z",
     "shell.execute_reply": "2025-05-13T17:34:56.444210Z",
     "shell.execute_reply.started": "2025-05-13T17:34:56.442087Z"
    }
   },
   "outputs": [],
   "source": [
    "df2.columns = c2"
   ]
  },
  {
   "cell_type": "code",
   "execution_count": 13,
   "id": "c3b03624-94e0-4be4-a648-498d76b73fc5",
   "metadata": {
    "execution": {
     "iopub.execute_input": "2025-05-13T17:35:23.661333Z",
     "iopub.status.busy": "2025-05-13T17:35:23.661135Z",
     "iopub.status.idle": "2025-05-13T17:35:28.153804Z",
     "shell.execute_reply": "2025-05-13T17:35:28.153253Z",
     "shell.execute_reply.started": "2025-05-13T17:35:23.661321Z"
    }
   },
   "outputs": [],
   "source": [
    "df.to_csv('SWaT_Dataset_Normal_v0.csv', index=False)"
   ]
  },
  {
   "cell_type": "code",
   "execution_count": 14,
   "id": "3f53759c-7e03-490b-9ddb-b534151d2f27",
   "metadata": {
    "execution": {
     "iopub.execute_input": "2025-05-13T17:35:28.154545Z",
     "iopub.status.busy": "2025-05-13T17:35:28.154428Z",
     "iopub.status.idle": "2025-05-13T17:35:32.081139Z",
     "shell.execute_reply": "2025-05-13T17:35:32.080705Z",
     "shell.execute_reply.started": "2025-05-13T17:35:28.154532Z"
    }
   },
   "outputs": [],
   "source": [
    "df2.to_csv('SWaT_Dataset_Attack_v0.csv', index=False)"
   ]
  },
  {
   "cell_type": "code",
   "execution_count": 15,
   "id": "86f0adec-4862-46fb-916c-b89427463c98",
   "metadata": {
    "execution": {
     "iopub.execute_input": "2025-05-13T17:36:57.748462Z",
     "iopub.status.busy": "2025-05-13T17:36:57.748322Z",
     "iopub.status.idle": "2025-05-13T17:36:58.484693Z",
     "shell.execute_reply": "2025-05-13T17:36:58.484224Z",
     "shell.execute_reply.started": "2025-05-13T17:36:57.748452Z"
    }
   },
   "outputs": [],
   "source": [
    "df3 = pd.read_csv('SWaT_Dataset_Normal_v0.csv')"
   ]
  },
  {
   "cell_type": "code",
   "execution_count": 17,
   "id": "a01aa317-6b0c-49f4-9e00-40e225b6249c",
   "metadata": {
    "execution": {
     "iopub.execute_input": "2025-05-13T17:37:17.755192Z",
     "iopub.status.busy": "2025-05-13T17:37:17.755045Z",
     "iopub.status.idle": "2025-05-13T17:37:18.377313Z",
     "shell.execute_reply": "2025-05-13T17:37:18.376762Z",
     "shell.execute_reply.started": "2025-05-13T17:37:17.755181Z"
    }
   },
   "outputs": [],
   "source": [
    "df4 = pd.read_csv('SWaT_Dataset_Attack_v0.csv')"
   ]
  },
  {
   "cell_type": "code",
   "execution_count": 18,
   "id": "7b2bde68-cdc7-40f3-a2a5-6c3157534018",
   "metadata": {
    "execution": {
     "iopub.execute_input": "2025-05-13T17:37:26.022035Z",
     "iopub.status.busy": "2025-05-13T17:37:26.021888Z",
     "iopub.status.idle": "2025-05-13T17:37:26.024918Z",
     "shell.execute_reply": "2025-05-13T17:37:26.024674Z",
     "shell.execute_reply.started": "2025-05-13T17:37:26.022024Z"
    }
   },
   "outputs": [
    {
     "data": {
      "text/plain": [
       "array([ True,  True,  True,  True,  True,  True,  True,  True,  True,\n",
       "        True,  True,  True,  True,  True,  True,  True,  True,  True,\n",
       "        True,  True,  True,  True,  True,  True,  True,  True,  True,\n",
       "        True,  True,  True,  True,  True,  True,  True,  True,  True,\n",
       "        True,  True,  True,  True,  True,  True,  True,  True,  True,\n",
       "        True,  True,  True,  True,  True,  True,  True,  True])"
      ]
     },
     "execution_count": 18,
     "metadata": {},
     "output_type": "execute_result"
    }
   ],
   "source": [
    "df3.columns == df4.columns"
   ]
  },
  {
   "cell_type": "code",
   "execution_count": 20,
   "id": "4cf6e4e3-d2d7-486e-b691-ea109052b247",
   "metadata": {
    "execution": {
     "iopub.execute_input": "2025-05-13T17:38:01.086301Z",
     "iopub.status.busy": "2025-05-13T17:38:01.085969Z",
     "iopub.status.idle": "2025-05-13T17:38:01.089212Z",
     "shell.execute_reply": "2025-05-13T17:38:01.088872Z",
     "shell.execute_reply.started": "2025-05-13T17:38:01.086288Z"
    }
   },
   "outputs": [
    {
     "data": {
      "text/plain": [
       "Index(['Timestamp', 'FIT101', 'LIT101', 'MV101', 'P101', 'P102', 'AIT201',\n",
       "       'AIT202', 'AIT203', 'FIT201', 'MV201', 'P201', 'P202', 'P203', 'P204',\n",
       "       'P205', 'P206', 'DPIT301', 'FIT301', 'LIT301', 'MV301', 'MV302',\n",
       "       'MV303', 'MV304', 'P301', 'P302', 'AIT401', 'AIT402', 'FIT401',\n",
       "       'LIT401', 'P401', 'P402', 'P403', 'P404', 'UV401', 'AIT501', 'AIT502',\n",
       "       'AIT503', 'AIT504', 'FIT501', 'FIT502', 'FIT503', 'FIT504', 'P501',\n",
       "       'P502', 'PIT501', 'PIT502', 'PIT503', 'FIT601', 'P601', 'P602', 'P603',\n",
       "       'Normal/Attack'],\n",
       "      dtype='object')"
      ]
     },
     "execution_count": 20,
     "metadata": {},
     "output_type": "execute_result"
    }
   ],
   "source": [
    "df4.columns"
   ]
  },
  {
   "cell_type": "code",
   "execution_count": 23,
   "id": "ffe389d4-f19b-4396-ae5b-f106c1e31317",
   "metadata": {
    "execution": {
     "iopub.execute_input": "2025-05-13T17:39:06.695874Z",
     "iopub.status.busy": "2025-05-13T17:39:06.695731Z",
     "iopub.status.idle": "2025-05-13T17:39:06.699062Z",
     "shell.execute_reply": "2025-05-13T17:39:06.698429Z",
     "shell.execute_reply.started": "2025-05-13T17:39:06.695863Z"
    }
   },
   "outputs": [
    {
     "data": {
      "text/plain": [
       "True"
      ]
     },
     "execution_count": 23,
     "metadata": {},
     "output_type": "execute_result"
    }
   ],
   "source": [
    "'MV101' in df4.columns"
   ]
  },
  {
   "cell_type": "code",
   "execution_count": null,
   "id": "27d5068a-2258-4809-83b8-2690b47c90e8",
   "metadata": {},
   "outputs": [],
   "source": []
  },
  {
   "cell_type": "code",
   "execution_count": 56,
   "id": "9bc9a42b-f781-4070-a54b-621108842dd0",
   "metadata": {
    "execution": {
     "iopub.execute_input": "2025-05-12T18:35:03.518442Z",
     "iopub.status.busy": "2025-05-12T18:35:03.518266Z",
     "iopub.status.idle": "2025-05-12T18:35:07.408166Z",
     "shell.execute_reply": "2025-05-12T18:35:07.407635Z",
     "shell.execute_reply.started": "2025-05-12T18:35:03.518431Z"
    }
   },
   "outputs": [],
   "source": [
    "df2.to_csv('SWaT_Dataset_Attack_v0.csv', index=False)"
   ]
  },
  {
   "cell_type": "code",
   "execution_count": 58,
   "id": "4370fd95-f36f-4675-9cd3-a90d673c7ab7",
   "metadata": {
    "execution": {
     "iopub.execute_input": "2025-05-12T18:35:41.693761Z",
     "iopub.status.busy": "2025-05-12T18:35:41.693134Z",
     "iopub.status.idle": "2025-05-12T18:35:42.444855Z",
     "shell.execute_reply": "2025-05-12T18:35:42.444339Z",
     "shell.execute_reply.started": "2025-05-12T18:35:41.693740Z"
    }
   },
   "outputs": [],
   "source": [
    "dft = pd.read_csv('SWaT_Dataset_Normal_v1.csv')"
   ]
  },
  {
   "cell_type": "code",
   "execution_count": 60,
   "id": "e2d7eb92-e950-40f2-b844-259408a66908",
   "metadata": {
    "execution": {
     "iopub.execute_input": "2025-05-12T18:36:42.911311Z",
     "iopub.status.busy": "2025-05-12T18:36:42.911102Z",
     "iopub.status.idle": "2025-05-12T18:36:47.242399Z",
     "shell.execute_reply": "2025-05-12T18:36:47.241863Z",
     "shell.execute_reply.started": "2025-05-12T18:36:42.911295Z"
    }
   },
   "outputs": [],
   "source": [
    "dft = dft.drop('Unnamed: 0', axis=1)\n",
    "dft.to_csv('SWaT_Dataset_Normal_v1.csv', index=False)"
   ]
  },
  {
   "cell_type": "code",
   "execution_count": 63,
   "id": "4964d893-3515-418a-aa29-37a82f54b304",
   "metadata": {
    "execution": {
     "iopub.execute_input": "2025-05-12T18:48:41.039746Z",
     "iopub.status.busy": "2025-05-12T18:48:41.039539Z",
     "iopub.status.idle": "2025-05-12T18:48:41.347131Z",
     "shell.execute_reply": "2025-05-12T18:48:41.346661Z",
     "shell.execute_reply.started": "2025-05-12T18:48:41.039730Z"
    }
   },
   "outputs": [
    {
     "name": "stdout",
     "output_type": "stream",
     "text": [
      " Timestamp -- 495000\n",
      "FIT101 -- 2773\n",
      "LIT101 -- 9590\n",
      "MV101 -- 3\n",
      "P101 -- 2\n",
      "P102 -- 1\n",
      "AIT201 -- 504\n",
      "AIT202 -- 1656\n",
      "AIT203 -- 5520\n",
      "FIT201 -- 2870\n",
      "MV201 -- 3\n",
      "P201 -- 1\n",
      "P202 -- 1\n",
      "P203 -- 2\n",
      "P204 -- 1\n",
      "P205 -- 2\n",
      "P206 -- 1\n",
      "DPIT301 -- 4854\n",
      "FIT301 -- 6220\n",
      "LIT301 -- 9090\n",
      "MV301 -- 3\n",
      "MV302 -- 3\n",
      "MV303 -- 3\n",
      "MV304 -- 3\n",
      "P301 -- 2\n",
      "P302 -- 2\n",
      "AIT401 -- 37\n",
      "AIT402 -- 2026\n",
      "FIT401 -- 661\n",
      "LIT401 -- 10604\n",
      "P401 -- 1\n",
      "P402 -- 2\n",
      "P403 -- 1\n",
      "P404 -- 1\n",
      "UV401 -- 2\n",
      "AIT501 -- 756\n",
      "AIT502 -- 1986\n",
      "AIT503 -- 753\n",
      "AIT504 -- 264\n",
      "FIT501 -- 643\n",
      "FIT502 -- 1094\n",
      "FIT503 -- 264\n",
      "FIT504 -- 202\n",
      "P501 -- 2\n",
      "P502 -- 1\n",
      "PIT501 -- 880\n",
      "PIT502 -- 89\n",
      "PIT503 -- 782\n",
      "FIT601 -- 3533\n",
      "P601 -- 1\n",
      "P602 -- 2\n",
      "P603 -- 1\n",
      "Normal/Attack -- 1\n"
     ]
    }
   ],
   "source": [
    "l = []\n",
    "for i in dft.columns:\n",
    "    print(f'{i} -- {dft[i].nunique()}')\n",
    "    if dft[i].nunique() < 5:\n",
    "        l.append(i)"
   ]
  },
  {
   "cell_type": "code",
   "execution_count": 64,
   "id": "fd263eba-ba2e-40d9-a2dc-b0f32286bc76",
   "metadata": {
    "execution": {
     "iopub.execute_input": "2025-05-12T18:48:46.271702Z",
     "iopub.status.busy": "2025-05-12T18:48:46.271397Z",
     "iopub.status.idle": "2025-05-12T18:48:46.274748Z",
     "shell.execute_reply": "2025-05-12T18:48:46.274452Z",
     "shell.execute_reply.started": "2025-05-12T18:48:46.271684Z"
    },
    "scrolled": true
   },
   "outputs": [
    {
     "data": {
      "text/plain": [
       "['MV101',\n",
       " 'P101',\n",
       " 'P102',\n",
       " 'MV201',\n",
       " 'P201',\n",
       " 'P202',\n",
       " 'P203',\n",
       " 'P204',\n",
       " 'P205',\n",
       " 'P206',\n",
       " 'MV301',\n",
       " 'MV302',\n",
       " 'MV303',\n",
       " 'MV304',\n",
       " 'P301',\n",
       " 'P302',\n",
       " 'P401',\n",
       " 'P402',\n",
       " 'P403',\n",
       " 'P404',\n",
       " 'UV401',\n",
       " 'P501',\n",
       " 'P502',\n",
       " 'P601',\n",
       " 'P602',\n",
       " 'P603',\n",
       " 'Normal/Attack']"
      ]
     },
     "execution_count": 64,
     "metadata": {},
     "output_type": "execute_result"
    }
   ],
   "source": [
    "l"
   ]
  },
  {
   "cell_type": "code",
   "execution_count": null,
   "id": "43836673-de6e-465d-bde7-4bdeef87868e",
   "metadata": {},
   "outputs": [],
   "source": []
  },
  {
   "cell_type": "code",
   "execution_count": null,
   "id": "61cdc46a-f454-4f2b-9e5b-7ecfe9a45f88",
   "metadata": {},
   "outputs": [],
   "source": []
  },
  {
   "cell_type": "code",
   "execution_count": 28,
   "id": "76bfaaf6-a7d8-4842-8452-49242705d5b8",
   "metadata": {
    "execution": {
     "iopub.execute_input": "2025-05-12T16:17:04.724780Z",
     "iopub.status.busy": "2025-05-12T16:17:04.724632Z",
     "iopub.status.idle": "2025-05-12T16:18:48.285116Z",
     "shell.execute_reply": "2025-05-12T16:18:48.284762Z",
     "shell.execute_reply.started": "2025-05-12T16:17:04.724769Z"
    }
   },
   "outputs": [
    {
     "data": {
      "application/vnd.jupyter.widget-view+json": {
       "model_id": "bbfba165e5234ee1a8a756d8a719186b",
       "version_major": 2,
       "version_minor": 0
      },
      "text/plain": [
       "Downloading reinartz_tep.zip:   0%|          | 0.00/1.88G [00:00<?, ?B/s]"
      ]
     },
     "metadata": {},
     "output_type": "display_data"
    },
    {
     "data": {
      "application/vnd.jupyter.widget-view+json": {
       "model_id": "088d55515a79445bb0f1611a42805071",
       "version_major": 2,
       "version_minor": 0
      },
      "text/plain": [
       "Extracting test_mask.csv:   0%|          | 0.00/91.8M [00:00<?, ?B/s]"
      ]
     },
     "metadata": {},
     "output_type": "display_data"
    },
    {
     "data": {
      "application/vnd.jupyter.widget-view+json": {
       "model_id": "b61453add35e4d238807e7551deeba04",
       "version_major": 2,
       "version_minor": 0
      },
      "text/plain": [
       "Extracting dataset.csv:   0%|          | 0.00/4.89G [00:00<?, ?B/s]"
      ]
     },
     "metadata": {},
     "output_type": "display_data"
    },
    {
     "data": {
      "application/vnd.jupyter.widget-view+json": {
       "model_id": "50d2261277bd4d0182ba44dbdde30bea",
       "version_major": 2,
       "version_minor": 0
      },
      "text/plain": [
       "Extracting labeled_train_mask.csv:   0%|          | 0.00/91.8M [00:00<?, ?B/s]"
      ]
     },
     "metadata": {},
     "output_type": "display_data"
    },
    {
     "data": {
      "application/vnd.jupyter.widget-view+json": {
       "model_id": "ca111c0a844c40e3adbe5766a5bfe2fe",
       "version_major": 2,
       "version_minor": 0
      },
      "text/plain": [
       "Extracting labels.csv:   0%|          | 0.00/94.3M [00:00<?, ?B/s]"
      ]
     },
     "metadata": {},
     "output_type": "display_data"
    },
    {
     "data": {
      "application/vnd.jupyter.widget-view+json": {
       "model_id": "ff66e3f279c24dc8b522f15160e6dc56",
       "version_major": 2,
       "version_minor": 0
      },
      "text/plain": [
       "Extracting train_mask.csv:   0%|          | 0.00/91.8M [00:00<?, ?B/s]"
      ]
     },
     "metadata": {},
     "output_type": "display_data"
    },
    {
     "data": {
      "application/vnd.jupyter.widget-view+json": {
       "model_id": "bcc5e64c316a4584915f61b3c287cf6e",
       "version_major": 2,
       "version_minor": 0
      },
      "text/plain": [
       "Reading data/reinartz_tep/dataset.csv:   0%|          | 0/5600000 [00:00<?, ?it/s]"
      ]
     },
     "metadata": {},
     "output_type": "display_data"
    },
    {
     "data": {
      "application/vnd.jupyter.widget-view+json": {
       "model_id": "1c8813c0073e4abbb0a4bb6afdade42d",
       "version_major": 2,
       "version_minor": 0
      },
      "text/plain": [
       "Reading data/reinartz_tep/labels.csv:   0%|          | 0/5600000 [00:00<?, ?it/s]"
      ]
     },
     "metadata": {},
     "output_type": "display_data"
    },
    {
     "data": {
      "application/vnd.jupyter.widget-view+json": {
       "model_id": "49f3b9cec39e45599287bca1fc2bd32d",
       "version_major": 2,
       "version_minor": 0
      },
      "text/plain": [
       "Reading data/reinartz_tep/train_mask.csv:   0%|          | 0/5600000 [00:00<?, ?it/s]"
      ]
     },
     "metadata": {},
     "output_type": "display_data"
    },
    {
     "data": {
      "application/vnd.jupyter.widget-view+json": {
       "model_id": "4a4ba13a510d437db4dcfbbf2edc48f9",
       "version_major": 2,
       "version_minor": 0
      },
      "text/plain": [
       "Reading data/reinartz_tep/test_mask.csv:   0%|          | 0/5600000 [00:00<?, ?it/s]"
      ]
     },
     "metadata": {},
     "output_type": "display_data"
    }
   ],
   "source": [
    "from fddbenchmark import FDDDataset\n",
    "dataset_obj = FDDDataset(name='reinartz_tep')"
   ]
  },
  {
   "cell_type": "code",
   "execution_count": 39,
   "id": "eb79d038-e998-470b-99e2-4d51c7ecbd5f",
   "metadata": {
    "execution": {
     "iopub.execute_input": "2025-05-12T16:20:10.812039Z",
     "iopub.status.busy": "2025-05-12T16:20:10.811895Z",
     "iopub.status.idle": "2025-05-12T16:20:10.815376Z",
     "shell.execute_reply": "2025-05-12T16:20:10.815136Z",
     "shell.execute_reply.started": "2025-05-12T16:20:10.812027Z"
    }
   },
   "outputs": [
    {
     "data": {
      "text/plain": [
       "MultiIndex([(1334009671,    1),\n",
       "            (1334009671,    2),\n",
       "            (1334009671,    3),\n",
       "            (1334009671,    4),\n",
       "            (1334009671,    5),\n",
       "            (1334009671,    6),\n",
       "            (1334009671,    7),\n",
       "            (1334009671,    8),\n",
       "            (1334009671,    9),\n",
       "            (1334009671,   10),\n",
       "            ...\n",
       "            ( 952878822, 1991),\n",
       "            ( 952878822, 1992),\n",
       "            ( 952878822, 1993),\n",
       "            ( 952878822, 1994),\n",
       "            ( 952878822, 1995),\n",
       "            ( 952878822, 1996),\n",
       "            ( 952878822, 1997),\n",
       "            ( 952878822, 1998),\n",
       "            ( 952878822, 1999),\n",
       "            ( 952878822, 2000)],\n",
       "           names=['run_id', 'sample'], length=5600000)"
      ]
     },
     "execution_count": 39,
     "metadata": {},
     "output_type": "execute_result"
    }
   ],
   "source": [
    "dataset_obj.df.index"
   ]
  },
  {
   "cell_type": "code",
   "execution_count": null,
   "id": "d644c993-e4b3-4031-b67b-178eb42a979e",
   "metadata": {},
   "outputs": [],
   "source": []
  },
  {
   "cell_type": "code",
   "execution_count": null,
   "id": "2eae247b-8d1e-4f6f-aef4-30c7de6e7acb",
   "metadata": {},
   "outputs": [],
   "source": []
  },
  {
   "cell_type": "code",
   "execution_count": 25,
   "id": "927888e6-73c5-4669-800e-7142378286ec",
   "metadata": {
    "execution": {
     "iopub.execute_input": "2025-05-12T16:10:39.461102Z",
     "iopub.status.busy": "2025-05-12T16:10:39.460826Z",
     "iopub.status.idle": "2025-05-12T16:10:43.884090Z",
     "shell.execute_reply": "2025-05-12T16:10:43.883585Z",
     "shell.execute_reply.started": "2025-05-12T16:10:39.461088Z"
    }
   },
   "outputs": [],
   "source": [
    "df.to_csv('SWaT_Dataset_Normal_v1.csv')"
   ]
  },
  {
   "cell_type": "code",
   "execution_count": 3,
   "id": "0810d921-7ac7-49af-857b-927d8730f15e",
   "metadata": {
    "execution": {
     "iopub.execute_input": "2025-05-10T14:47:41.273993Z",
     "iopub.status.busy": "2025-05-10T14:47:41.273859Z",
     "iopub.status.idle": "2025-05-10T14:47:42.009684Z",
     "shell.execute_reply": "2025-05-10T14:47:42.009383Z",
     "shell.execute_reply.started": "2025-05-10T14:47:41.273984Z"
    }
   },
   "outputs": [],
   "source": [
    "import torch\n",
    "from torch.utils.data import Dataset\n",
    "\n",
    "class TimeSeriesDataset(Dataset):\n",
    "    def __init__(self, dataframe, window_size, target_columns=None):\n",
    "        \"\"\"\n",
    "        Args:\n",
    "            dataframe (pd.DataFrame): Входной DataFrame с временными рядами\n",
    "            window_size (int): Размер окна для входных данных\n",
    "            target_columns (list): Список колонок, которые нужно предсказывать (по умолчанию все)\n",
    "        \"\"\"\n",
    "        # Убедитесь, что индекс DataFrame отсортирован по времени\n",
    "        self.dataframe = dataframe.sort_index()\n",
    "        \n",
    "        # Определяем целевые колонки\n",
    "        if target_columns is None:\n",
    "            self.target_columns = self.dataframe.columns.tolist()\n",
    "        else:\n",
    "            self.target_columns = target_columns\n",
    "        \n",
    "        # Используем все колонки, кроме временной метки (предполагается, что это первая колонка)\n",
    "        feature_columns = self.dataframe.columns[1:].tolist()\n",
    "        \n",
    "        # Сохраняем данные как тензоры\n",
    "        self.features = torch.tensor(self.dataframe[feature_columns].values, dtype=torch.float32)\n",
    "        self.targets = torch.tensor(self.dataframe[self.target_columns].values, dtype=torch.float32)\n",
    "        \n",
    "        self.window_size = window_size\n",
    "\n",
    "    def __len__(self):\n",
    "        return len(self.dataframe) - self.window_size\n",
    "\n",
    "    def __getitem__(self, idx):\n",
    "        # Проверка на корректность индекса\n",
    "        if idx + self.window_size >= len(self.dataframe):\n",
    "            raise IndexError(\"Index out of bounds\")\n",
    "            \n",
    "        # Получаем входное окно и целевое значение\n",
    "        input_window = self.features[idx:idx + self.window_size]\n",
    "        target_value = self.targets[idx + self.window_size]\n",
    "        \n",
    "        return input_window, target_value"
   ]
  },
  {
   "cell_type": "code",
   "execution_count": 4,
   "id": "c6ddb9fa-7816-48bc-bf21-9e5267a234df",
   "metadata": {
    "execution": {
     "iopub.execute_input": "2025-05-10T14:47:42.010211Z",
     "iopub.status.busy": "2025-05-10T14:47:42.010074Z",
     "iopub.status.idle": "2025-05-10T14:47:42.038893Z",
     "shell.execute_reply": "2025-05-10T14:47:42.038601Z",
     "shell.execute_reply.started": "2025-05-10T14:47:42.010201Z"
    }
   },
   "outputs": [],
   "source": [
    "df = df.drop([' Timestamp', 'Normal/Attack'], axis=1)"
   ]
  },
  {
   "cell_type": "code",
   "execution_count": 5,
   "id": "634c862b-76d2-42c6-a833-18aed8b90f9a",
   "metadata": {
    "execution": {
     "iopub.execute_input": "2025-05-10T14:47:42.039720Z",
     "iopub.status.busy": "2025-05-10T14:47:42.039578Z",
     "iopub.status.idle": "2025-05-10T14:47:42.200923Z",
     "shell.execute_reply": "2025-05-10T14:47:42.200423Z",
     "shell.execute_reply.started": "2025-05-10T14:47:42.039710Z"
    }
   },
   "outputs": [],
   "source": [
    "dataset = TimeSeriesDataset(df, 100)"
   ]
  },
  {
   "cell_type": "code",
   "execution_count": 6,
   "id": "c102615d-ab9c-4727-b06f-8e0bf71af4ce",
   "metadata": {
    "execution": {
     "iopub.execute_input": "2025-05-10T14:47:42.201521Z",
     "iopub.status.busy": "2025-05-10T14:47:42.201397Z",
     "iopub.status.idle": "2025-05-10T14:47:42.382804Z",
     "shell.execute_reply": "2025-05-10T14:47:42.382293Z",
     "shell.execute_reply.started": "2025-05-10T14:47:42.201499Z"
    }
   },
   "outputs": [],
   "source": [
    "import torch\n",
    "from torch.utils.data import Dataset\n",
    "from sklearn.preprocessing import StandardScaler\n",
    "\n",
    "class TimeSeriesDataset(Dataset):\n",
    "    def __init__(self, data, window_size):\n",
    "        \"\"\"\n",
    "        Args:\n",
    "            data (pd.DataFrame): исходный DataFrame, включая временную метку\n",
    "            window_size (int): размер окна для входных данных\n",
    "        \"\"\"\n",
    "        self.data = data.copy()\n",
    "        \n",
    "        # Стандартизация\n",
    "        self.scaler = StandardScaler()\n",
    "        self.scaled_data = self.scaler.fit_transform(self.data)\n",
    "\n",
    "        # Сохраняем как тензоры\n",
    "        self.tensor_data = torch.tensor(self.scaled_data, dtype=torch.float32)\n",
    "        self.window_size = window_size\n",
    "\n",
    "    def __len__(self):\n",
    "        return len(self.tensor_data) - self.window_size\n",
    "\n",
    "    def __getitem__(self, idx):\n",
    "        \"\"\"\n",
    "        Возвращает:\n",
    "            input_window: [window_size, num_features]\n",
    "            target_point: [num_features] - следующий временной шаг\n",
    "        \"\"\"\n",
    "        input_window = self.tensor_data[idx : idx + self.window_size]\n",
    "        target_point = self.tensor_data[idx + self.window_size]\n",
    "        return input_window, target_point"
   ]
  },
  {
   "cell_type": "code",
   "execution_count": 7,
   "id": "878f28ab-a7e0-47fb-b360-431812c68098",
   "metadata": {
    "execution": {
     "iopub.execute_input": "2025-05-10T14:47:42.383563Z",
     "iopub.status.busy": "2025-05-10T14:47:42.383386Z",
     "iopub.status.idle": "2025-05-10T14:47:42.385801Z",
     "shell.execute_reply": "2025-05-10T14:47:42.385409Z",
     "shell.execute_reply.started": "2025-05-10T14:47:42.383552Z"
    }
   },
   "outputs": [],
   "source": [
    "import torch\n",
    "import torch.nn as nn\n",
    "import torch.optim as optim\n",
    "from torch.utils.data import Dataset, DataLoader\n",
    "from sklearn.preprocessing import StandardScaler\n",
    "import numpy as np\n",
    "import pandas as pd"
   ]
  },
  {
   "cell_type": "code",
   "execution_count": 8,
   "id": "b285ff1c-00b8-4043-9919-902581b10ba7",
   "metadata": {
    "execution": {
     "iopub.execute_input": "2025-05-10T14:47:42.386178Z",
     "iopub.status.busy": "2025-05-10T14:47:42.386082Z",
     "iopub.status.idle": "2025-05-10T14:47:42.398705Z",
     "shell.execute_reply": "2025-05-10T14:47:42.398388Z",
     "shell.execute_reply.started": "2025-05-10T14:47:42.386169Z"
    }
   },
   "outputs": [],
   "source": [
    "import torch.nn as nn\n",
    "\n",
    "class SimpleFCN(nn.Module):\n",
    "    def __init__(self, input_dim, hidden_dim, output_dim):\n",
    "        super().__init__()\n",
    "        self.net = nn.Sequential(\n",
    "            nn.Linear(input_dim, hidden_dim),\n",
    "            nn.ReLU(),\n",
    "            nn.Linear(hidden_dim, hidden_dim),\n",
    "            nn.ReLU(),\n",
    "            nn.Linear(hidden_dim, output_dim)\n",
    "        )\n",
    "\n",
    "    def forward(self, x):\n",
    "        batch_size, seq_len, feature_dim = x.shape\n",
    "        # Сплющиваем окно: [batch_size, window_size * feature_dim]\n",
    "        x = x.view(batch_size, -1)\n",
    "        return self.net(x)"
   ]
  },
  {
   "cell_type": "code",
   "execution_count": 9,
   "id": "e23c88ce-6777-4c64-8251-0796a2510fa5",
   "metadata": {
    "execution": {
     "iopub.execute_input": "2025-05-10T14:47:42.399170Z",
     "iopub.status.busy": "2025-05-10T14:47:42.399074Z",
     "iopub.status.idle": "2025-05-10T14:47:42.646070Z",
     "shell.execute_reply": "2025-05-10T14:47:42.645286Z",
     "shell.execute_reply.started": "2025-05-10T14:47:42.399161Z"
    }
   },
   "outputs": [],
   "source": [
    "window_size = 100\n",
    "batch_size = 32\n",
    "num_epochs = 2\n",
    "learning_rate = 1e-3\n",
    "\n",
    "# Создание датасета и загрузчика\n",
    "dataset = TimeSeriesDataset(df, window_size)\n",
    "dataloader = torch.utils.data.DataLoader(dataset, batch_size=batch_size, shuffle=False)"
   ]
  },
  {
   "cell_type": "code",
   "execution_count": 10,
   "id": "3c00079f-e5d6-40d9-b61c-4eb9fdda51a4",
   "metadata": {
    "execution": {
     "iopub.execute_input": "2025-05-10T14:47:42.646682Z",
     "iopub.status.busy": "2025-05-10T14:47:42.646544Z",
     "iopub.status.idle": "2025-05-10T14:47:43.042680Z",
     "shell.execute_reply": "2025-05-10T14:47:43.042281Z",
     "shell.execute_reply.started": "2025-05-10T14:47:42.646673Z"
    }
   },
   "outputs": [],
   "source": [
    "# Получаем размеры\n",
    "sample_input, sample_target = dataset[0]\n",
    "input_dim = sample_input.shape[0] * sample_input.shape[1]  # window_size * num_features\n",
    "output_dim = sample_target.shape[0]  # num_features\n",
    "hidden_dim = 128\n",
    "\n",
    "# Модель\n",
    "model = SimpleFCN(input_dim, hidden_dim, output_dim)\n",
    "\n",
    "# Loss и оптимизатор\n",
    "criterion = nn.L1Loss()\n",
    "optimizer = torch.optim.Adam(model.parameters(), lr=learning_rate)"
   ]
  },
  {
   "cell_type": "code",
   "execution_count": 11,
   "id": "7630ae2f-9237-470c-a0a7-8aef59860df9",
   "metadata": {
    "execution": {
     "iopub.execute_input": "2025-05-10T14:47:43.043676Z",
     "iopub.status.busy": "2025-05-10T14:47:43.043511Z",
     "iopub.status.idle": "2025-05-10T14:47:43.046095Z",
     "shell.execute_reply": "2025-05-10T14:47:43.045881Z",
     "shell.execute_reply.started": "2025-05-10T14:47:43.043666Z"
    }
   },
   "outputs": [],
   "source": [
    "import numpy as np\n",
    "\n",
    "def compute_mape(preds, targets, epsilon=1e-6):\n",
    "    \"\"\"\n",
    "    Вычисляет MAPE (Mean Absolute Percentage Error)\n",
    "    \n",
    "    Args:\n",
    "        preds (torch.Tensor or np.ndarray): Предсказания модели\n",
    "        targets (torch.Tensor or np.ndarray): Истинные значения\n",
    "        epsilon (float): Маленькое число для защиты от деления на ноль\n",
    "    \n",
    "    Returns:\n",
    "        float: MAPE в процентах\n",
    "    \"\"\"\n",
    "    if isinstance(preds, torch.Tensor):\n",
    "        preds = preds.cpu().detach().numpy()\n",
    "    if isinstance(targets, torch.Tensor):\n",
    "        targets = targets.cpu().detach().numpy()\n",
    "    \n",
    "    # Убедимся, что размерности совпадают\n",
    "    assert preds.shape == targets.shape, \"Размерности preds и targets не совпадают\"\n",
    "\n",
    "    # Защита от деления на ноль\n",
    "    abs_error = np.abs(targets - preds)\n",
    "    relative_error = abs_error / (np.abs(targets) + epsilon)\n",
    "\n",
    "    return np.mean(relative_error) * 100"
   ]
  },
  {
   "cell_type": "code",
   "execution_count": 12,
   "id": "dc33afac-4415-4155-ad17-ad799dcf8f09",
   "metadata": {
    "execution": {
     "iopub.execute_input": "2025-05-10T14:47:43.046586Z",
     "iopub.status.busy": "2025-05-10T14:47:43.046427Z",
     "iopub.status.idle": "2025-05-10T14:47:43.163447Z",
     "shell.execute_reply": "2025-05-10T14:47:43.162940Z",
     "shell.execute_reply.started": "2025-05-10T14:47:43.046577Z"
    }
   },
   "outputs": [
    {
     "name": "stdout",
     "output_type": "stream",
     "text": [
      "Using device: cuda:0\n"
     ]
    }
   ],
   "source": [
    "from tqdm import tqdm  # Для визуализации прогресса\n",
    "import torch\n",
    "\n",
    "device = torch.device(\"cuda:0\" if torch.cuda.is_available() else \"cpu\")\n",
    "model.to(device)  # Перенос модели на GPU\n",
    "print(f\"Using device: {device}\")\n",
    "\n",
    "optimizer = optim.Adam(model.parameters(), lr=learning_rate)"
   ]
  },
  {
   "cell_type": "code",
   "execution_count": null,
   "id": "bfc91175-f32d-4c52-b961-2c46f0d2090c",
   "metadata": {},
   "outputs": [],
   "source": []
  },
  {
   "cell_type": "code",
   "execution_count": 13,
   "id": "e9948735-7303-401b-b4a9-3b477f00168f",
   "metadata": {
    "execution": {
     "iopub.execute_input": "2025-05-10T14:47:43.163982Z",
     "iopub.status.busy": "2025-05-10T14:47:43.163878Z",
     "iopub.status.idle": "2025-05-10T14:48:21.783688Z",
     "shell.execute_reply": "2025-05-10T14:48:21.783437Z",
     "shell.execute_reply.started": "2025-05-10T14:47:43.163973Z"
    }
   },
   "outputs": [
    {
     "name": "stderr",
     "output_type": "stream",
     "text": [
      "                                                                                               \r"
     ]
    },
    {
     "name": "stdout",
     "output_type": "stream",
     "text": [
      "Epoch [1/2], Loss: 0.1443, MAPE: 407678.46%\n"
     ]
    },
    {
     "name": "stderr",
     "output_type": "stream",
     "text": [
      "                                                                                               "
     ]
    },
    {
     "name": "stdout",
     "output_type": "stream",
     "text": [
      "Epoch [2/2], Loss: 0.1828, MAPE: 136029.22%\n"
     ]
    },
    {
     "name": "stderr",
     "output_type": "stream",
     "text": [
      "\r"
     ]
    }
   ],
   "source": [
    "model.train()\n",
    "\n",
    "for epoch in range(num_epochs):\n",
    "    total_loss = 0\n",
    "    total_mape = 0\n",
    "    count = 0\n",
    "\n",
    "    # Оборачиваем DataLoader в tqdm\n",
    "    progress_bar = tqdm(dataloader, desc=f\"Epoch {epoch+1}/{num_epochs}\", leave=False)\n",
    "\n",
    "    for inputs, targets_batch in progress_bar:\n",
    "        # Перенос данных на устройство (CPU или GPU)\n",
    "        inputs = inputs.to(device)\n",
    "        targets_batch = targets_batch.to(device)\n",
    "\n",
    "        optimizer.zero_grad()\n",
    "        outputs = model(inputs)\n",
    "        loss = criterion(outputs, targets_batch)\n",
    "        loss.backward()\n",
    "        optimizer.step()\n",
    "\n",
    "        # Перенос на CPU для вычисления MAPE\n",
    "        outputs_cpu = outputs.cpu()\n",
    "        targets_cpu = targets_batch.cpu()\n",
    "\n",
    "        # Вычисление MAPE\n",
    "        mape = compute_mape(outputs_cpu, targets_cpu)\n",
    "        total_loss += loss.item()\n",
    "        total_mape += mape\n",
    "        count += 1\n",
    "\n",
    "        # Обновление строки прогресса\n",
    "        progress_bar.set_postfix(loss=loss.item(), mape=f\"{mape:.2f}%\")\n",
    "\n",
    "    # Средние значения за эпоху\n",
    "    avg_loss = total_loss / count\n",
    "    avg_mape = total_mape / count\n",
    "    print(f\"Epoch [{epoch+1}/{num_epochs}], Loss: {avg_loss:.4f}, MAPE: {avg_mape:.2f}%\")"
   ]
  },
  {
   "cell_type": "code",
   "execution_count": 17,
   "id": "be34ace0-6d39-4be6-a042-20609b33a55a",
   "metadata": {
    "execution": {
     "iopub.execute_input": "2025-05-10T14:56:55.143907Z",
     "iopub.status.busy": "2025-05-10T14:56:55.143631Z",
     "iopub.status.idle": "2025-05-10T14:56:55.167932Z",
     "shell.execute_reply": "2025-05-10T14:56:55.167177Z",
     "shell.execute_reply.started": "2025-05-10T14:56:55.143889Z"
    }
   },
   "outputs": [
    {
     "ename": "RuntimeError",
     "evalue": "view size is not compatible with input tensor's size and stride (at least one dimension spans across two contiguous subspaces). Use .reshape(...) instead.",
     "output_type": "error",
     "traceback": [
      "\u001b[0;31m---------------------------------------------------------------------------\u001b[0m",
      "\u001b[0;31mRuntimeError\u001b[0m                              Traceback (most recent call last)",
      "Cell \u001b[0;32mIn[17], line 5\u001b[0m\n\u001b[1;32m      3\u001b[0m inputs, _ \u001b[38;5;241m=\u001b[39m dataset[\u001b[38;5;241m0\u001b[39m]\n\u001b[1;32m      4\u001b[0m input_tensor \u001b[38;5;241m=\u001b[39m inputs\u001b[38;5;241m.\u001b[39munsqueeze(\u001b[38;5;241m0\u001b[39m)  \u001b[38;5;66;03m# Добавляем batch dimension\u001b[39;00m\n\u001b[0;32m----> 5\u001b[0m prediction_scaled \u001b[38;5;241m=\u001b[39m \u001b[43mmodel\u001b[49m\u001b[43m(\u001b[49m\u001b[43minput_tensor\u001b[49m\u001b[43m)\u001b[49m\n\u001b[1;32m      7\u001b[0m \u001b[38;5;66;03m# Денормализация\u001b[39;00m\n\u001b[1;32m      8\u001b[0m prediction_denorm \u001b[38;5;241m=\u001b[39m dataset\u001b[38;5;241m.\u001b[39mscaler\u001b[38;5;241m.\u001b[39minverse_transform(prediction_scaled\u001b[38;5;241m.\u001b[39mnumpy())\n",
      "File \u001b[0;32m~/anaconda3/envs/torch/lib/python3.10/site-packages/torch/nn/modules/module.py:1736\u001b[0m, in \u001b[0;36mModule._wrapped_call_impl\u001b[0;34m(self, *args, **kwargs)\u001b[0m\n\u001b[1;32m   1734\u001b[0m     \u001b[38;5;28;01mreturn\u001b[39;00m \u001b[38;5;28mself\u001b[39m\u001b[38;5;241m.\u001b[39m_compiled_call_impl(\u001b[38;5;241m*\u001b[39margs, \u001b[38;5;241m*\u001b[39m\u001b[38;5;241m*\u001b[39mkwargs)  \u001b[38;5;66;03m# type: ignore[misc]\u001b[39;00m\n\u001b[1;32m   1735\u001b[0m \u001b[38;5;28;01melse\u001b[39;00m:\n\u001b[0;32m-> 1736\u001b[0m     \u001b[38;5;28;01mreturn\u001b[39;00m \u001b[38;5;28;43mself\u001b[39;49m\u001b[38;5;241;43m.\u001b[39;49m\u001b[43m_call_impl\u001b[49m\u001b[43m(\u001b[49m\u001b[38;5;241;43m*\u001b[39;49m\u001b[43margs\u001b[49m\u001b[43m,\u001b[49m\u001b[43m \u001b[49m\u001b[38;5;241;43m*\u001b[39;49m\u001b[38;5;241;43m*\u001b[39;49m\u001b[43mkwargs\u001b[49m\u001b[43m)\u001b[49m\n",
      "File \u001b[0;32m~/anaconda3/envs/torch/lib/python3.10/site-packages/torch/nn/modules/module.py:1747\u001b[0m, in \u001b[0;36mModule._call_impl\u001b[0;34m(self, *args, **kwargs)\u001b[0m\n\u001b[1;32m   1742\u001b[0m \u001b[38;5;66;03m# If we don't have any hooks, we want to skip the rest of the logic in\u001b[39;00m\n\u001b[1;32m   1743\u001b[0m \u001b[38;5;66;03m# this function, and just call forward.\u001b[39;00m\n\u001b[1;32m   1744\u001b[0m \u001b[38;5;28;01mif\u001b[39;00m \u001b[38;5;129;01mnot\u001b[39;00m (\u001b[38;5;28mself\u001b[39m\u001b[38;5;241m.\u001b[39m_backward_hooks \u001b[38;5;129;01mor\u001b[39;00m \u001b[38;5;28mself\u001b[39m\u001b[38;5;241m.\u001b[39m_backward_pre_hooks \u001b[38;5;129;01mor\u001b[39;00m \u001b[38;5;28mself\u001b[39m\u001b[38;5;241m.\u001b[39m_forward_hooks \u001b[38;5;129;01mor\u001b[39;00m \u001b[38;5;28mself\u001b[39m\u001b[38;5;241m.\u001b[39m_forward_pre_hooks\n\u001b[1;32m   1745\u001b[0m         \u001b[38;5;129;01mor\u001b[39;00m _global_backward_pre_hooks \u001b[38;5;129;01mor\u001b[39;00m _global_backward_hooks\n\u001b[1;32m   1746\u001b[0m         \u001b[38;5;129;01mor\u001b[39;00m _global_forward_hooks \u001b[38;5;129;01mor\u001b[39;00m _global_forward_pre_hooks):\n\u001b[0;32m-> 1747\u001b[0m     \u001b[38;5;28;01mreturn\u001b[39;00m \u001b[43mforward_call\u001b[49m\u001b[43m(\u001b[49m\u001b[38;5;241;43m*\u001b[39;49m\u001b[43margs\u001b[49m\u001b[43m,\u001b[49m\u001b[43m \u001b[49m\u001b[38;5;241;43m*\u001b[39;49m\u001b[38;5;241;43m*\u001b[39;49m\u001b[43mkwargs\u001b[49m\u001b[43m)\u001b[49m\n\u001b[1;32m   1749\u001b[0m result \u001b[38;5;241m=\u001b[39m \u001b[38;5;28;01mNone\u001b[39;00m\n\u001b[1;32m   1750\u001b[0m called_always_called_hooks \u001b[38;5;241m=\u001b[39m \u001b[38;5;28mset\u001b[39m()\n",
      "Cell \u001b[0;32mIn[8], line 17\u001b[0m, in \u001b[0;36mSimpleFCN.forward\u001b[0;34m(self, x)\u001b[0m\n\u001b[1;32m     15\u001b[0m batch_size, seq_len, feature_dim \u001b[38;5;241m=\u001b[39m x\u001b[38;5;241m.\u001b[39mshape\n\u001b[1;32m     16\u001b[0m \u001b[38;5;66;03m# Сплющиваем окно: [batch_size, window_size * feature_dim]\u001b[39;00m\n\u001b[0;32m---> 17\u001b[0m x \u001b[38;5;241m=\u001b[39m \u001b[43mx\u001b[49m\u001b[38;5;241;43m.\u001b[39;49m\u001b[43mview\u001b[49m\u001b[43m(\u001b[49m\u001b[43mbatch_size\u001b[49m\u001b[43m,\u001b[49m\u001b[43m \u001b[49m\u001b[38;5;241;43m-\u001b[39;49m\u001b[38;5;241;43m1\u001b[39;49m\u001b[43m)\u001b[49m\n\u001b[1;32m     18\u001b[0m \u001b[38;5;28;01mreturn\u001b[39;00m \u001b[38;5;28mself\u001b[39m\u001b[38;5;241m.\u001b[39mnet(x)\n",
      "\u001b[0;31mRuntimeError\u001b[0m: view size is not compatible with input tensor's size and stride (at least one dimension spans across two contiguous subspaces). Use .reshape(...) instead."
     ]
    }
   ],
   "source": [
    "model.eval()\n",
    "with torch.no_grad():\n",
    "    inputs, _ = dataset[0]\n",
    "    inputs = inputs.to(device)\n",
    "    input_tensor = inputs.unsqueeze(0)  # Добавляем batch dimension\n",
    "    prediction_scaled = model(input_tensor)\n",
    "\n",
    "    # Денормализация\n",
    "    prediction_denorm = dataset.scaler.inverse_transform(prediction_scaled.numpy())\n",
    "    print(\"Предсказанный следующий временной шаг (денормализованный):\\n\", prediction_denorm)"
   ]
  },
  {
   "cell_type": "code",
   "execution_count": 44,
   "id": "5b5f1e15-0b79-4473-b251-14433b0bca8a",
   "metadata": {
    "execution": {
     "iopub.execute_input": "2025-05-12T18:18:35.634772Z",
     "iopub.status.busy": "2025-05-12T18:18:35.634251Z",
     "iopub.status.idle": "2025-05-12T18:18:35.639420Z",
     "shell.execute_reply": "2025-05-12T18:18:35.638735Z",
     "shell.execute_reply.started": "2025-05-12T18:18:35.634743Z"
    }
   },
   "outputs": [
    {
     "data": {
      "text/plain": [
       "RangeIndex(start=0, stop=495000, step=1)"
      ]
     },
     "execution_count": 44,
     "metadata": {},
     "output_type": "execute_result"
    }
   ],
   "source": [
    "df.index"
   ]
  },
  {
   "cell_type": "code",
   "execution_count": null,
   "id": "6b74484d-d73e-4275-bf64-4e64052ad43e",
   "metadata": {},
   "outputs": [],
   "source": []
  },
  {
   "cell_type": "code",
   "execution_count": null,
   "id": "12b73c22-431e-4bff-b80a-71ff8763cc71",
   "metadata": {},
   "outputs": [],
   "source": []
  },
  {
   "cell_type": "code",
   "execution_count": null,
   "id": "d8f89344-34ec-42c2-bc57-1ab49fa77e08",
   "metadata": {},
   "outputs": [],
   "source": []
  },
  {
   "cell_type": "code",
   "execution_count": null,
   "id": "705baab7-5261-475b-9793-87ddb14f259a",
   "metadata": {},
   "outputs": [],
   "source": []
  },
  {
   "cell_type": "code",
   "execution_count": null,
   "id": "f374d3ff-ca20-42fc-91f9-b6e16fc7d55b",
   "metadata": {},
   "outputs": [],
   "source": []
  }
 ],
 "metadata": {
  "kernelspec": {
   "display_name": "torch",
   "language": "python",
   "name": "torch"
  },
  "language_info": {
   "codemirror_mode": {
    "name": "ipython",
    "version": 3
   },
   "file_extension": ".py",
   "mimetype": "text/x-python",
   "name": "python",
   "nbconvert_exporter": "python",
   "pygments_lexer": "ipython3",
   "version": "3.10.15"
  }
 },
 "nbformat": 4,
 "nbformat_minor": 5
}
