{
 "cells": [
  {
   "cell_type": "code",
   "execution_count": 1,
   "id": "948bd74f-97ab-486a-b43d-3215eaf22928",
   "metadata": {
    "execution": {
     "iopub.execute_input": "2025-05-10T13:37:02.348156Z",
     "iopub.status.busy": "2025-05-10T13:37:02.347970Z",
     "iopub.status.idle": "2025-05-10T13:37:03.344150Z",
     "shell.execute_reply": "2025-05-10T13:37:03.343848Z",
     "shell.execute_reply.started": "2025-05-10T13:37:02.348142Z"
    }
   },
   "outputs": [],
   "source": [
    "import torch\n",
    "import torch.nn as nn\n",
    "import torch.nn.functional as F\n",
    "from torch.optim import Adam\n",
    "from tqdm.auto import tqdm, trange\n",
    "import argparse\n",
    "import numpy as np\n",
    "import pandas as pd\n",
    "from sklearn.preprocessing import StandardScaler\n",
    "from fddbenchmark import FDDDataset, FDDDataloader\n",
    "from dataset import ForecastFDDDataloader\n",
    "from code_test import test\n",
    "from copy_transformer import TimeSeriesTransformerGSL"
   ]
  },
  {
   "cell_type": "code",
   "execution_count": 2,
   "id": "f6d842da-6d7f-41bd-a08a-af063afaef62",
   "metadata": {
    "execution": {
     "iopub.execute_input": "2025-05-10T13:37:03.344969Z",
     "iopub.status.busy": "2025-05-10T13:37:03.344713Z",
     "iopub.status.idle": "2025-05-10T13:37:03.347288Z",
     "shell.execute_reply": "2025-05-10T13:37:03.347051Z",
     "shell.execute_reply.started": "2025-05-10T13:37:03.344956Z"
    }
   },
   "outputs": [],
   "source": [
    "from torchsummary import summary"
   ]
  },
  {
   "cell_type": "code",
   "execution_count": 33,
   "id": "9eb86813-df90-46f5-a72d-3ea4da39bcaa",
   "metadata": {
    "execution": {
     "iopub.execute_input": "2025-05-09T07:42:15.100655Z",
     "iopub.status.busy": "2025-05-09T07:42:15.099995Z",
     "iopub.status.idle": "2025-05-09T07:42:15.121496Z",
     "shell.execute_reply": "2025-05-09T07:42:15.119790Z",
     "shell.execute_reply.started": "2025-05-09T07:42:15.100598Z"
    },
    "scrolled": true
   },
   "outputs": [
    {
     "name": "stderr",
     "output_type": "stream",
     "text": [
      "usage: ipykernel_launcher.py [-h] [--dataset DATASET] [--n_epochs N_EPOCHS]\n",
      "                             [--window_size WINDOW_SIZE]\n",
      "                             [--step_size STEP_SIZE] [--batch_size BATCH_SIZE]\n",
      "                             [--d_model D_MODEL] [--nhead NHEAD]\n",
      "                             [--num_layers NUM_LAYERS]\n",
      "                             [--dim_feedforward DIM_FEEDFORWARD]\n",
      "                             [--dropout DROPOUT] [--lr LR] [--n_gnn N_GNN]\n",
      "                             [--n_hidden N_HIDDEN] [--gsl_k GSL_K]\n",
      "                             [--name NAME]\n",
      "ipykernel_launcher.py: error: unrecognized arguments: -f /home/akozhevnikov/.local/share/jupyter/runtime/kernel-95da5b5f-b377-44a3-a661-41253cdb69d3.json\n"
     ]
    },
    {
     "ename": "SystemExit",
     "evalue": "2",
     "output_type": "error",
     "traceback": [
      "An exception has occurred, use %tb to see the full traceback.\n",
      "\u001b[0;31mSystemExit\u001b[0m\u001b[0;31m:\u001b[0m 2\n"
     ]
    },
    {
     "name": "stderr",
     "output_type": "stream",
     "text": [
      "/home/akozhevnikov/anaconda3/envs/torch/lib/python3.10/site-packages/IPython/core/interactiveshell.py:3585: UserWarning: To exit: use 'exit', 'quit', or Ctrl-D.\n",
      "  warn(\"To exit: use 'exit', 'quit', or Ctrl-D.\", stacklevel=1)\n"
     ]
    }
   ],
   "source": [
    "def parse_args():\n",
    "    parser = argparse.ArgumentParser(description='Train transformer+GSL model for time series forecasting')\n",
    "    parser.add_argument('--dataset', type=str, default='reinartz_tep')\n",
    "    parser.add_argument('--n_epochs', type=int, default=1)\n",
    "    parser.add_argument('--window_size', type=int, default=100)\n",
    "    parser.add_argument('--step_size', type=int, default=1)\n",
    "    parser.add_argument('--batch_size', type=int, default=512)\n",
    "    parser.add_argument('--d_model', type=int, default=128)\n",
    "    parser.add_argument('--nhead', type=int, default=8)\n",
    "    parser.add_argument('--num_layers', type=int, default=2)\n",
    "    parser.add_argument('--dim_feedforward', type=int, default=128)\n",
    "    parser.add_argument('--dropout', type=float, default=0.2)\n",
    "    parser.add_argument('--lr', type=float, default=0.001)\n",
    "    parser.add_argument('--n_gnn', type=int, default=1)\n",
    "    parser.add_argument('--n_hidden', type=int, default=256)\n",
    "    parser.add_argument('--gsl_k', type=int, default=5, help='Top-k для GSL')\n",
    "    parser.add_argument('--name', type=str, default='transformer_gsl')\n",
    "    return parser.parse_args()\n",
    "args = parse_args()"
   ]
  },
  {
   "cell_type": "code",
   "execution_count": 22,
   "id": "4e8950be-b6e2-415e-98be-9ca5e6f7590b",
   "metadata": {
    "execution": {
     "iopub.execute_input": "2025-05-12T16:47:03.725502Z",
     "iopub.status.busy": "2025-05-12T16:47:03.725317Z",
     "iopub.status.idle": "2025-05-12T16:47:03.733694Z",
     "shell.execute_reply": "2025-05-12T16:47:03.733222Z",
     "shell.execute_reply.started": "2025-05-12T16:47:03.725490Z"
    }
   },
   "outputs": [],
   "source": [
    "model = TimeSeriesTransformerGSL(ts_dim=52, window_size=100)"
   ]
  },
  {
   "cell_type": "code",
   "execution_count": 23,
   "id": "2425c699-67d2-4e2f-b1a9-b75e6f9713c3",
   "metadata": {
    "execution": {
     "iopub.execute_input": "2025-05-12T16:47:04.157692Z",
     "iopub.status.busy": "2025-05-12T16:47:04.157549Z",
     "iopub.status.idle": "2025-05-12T16:47:04.162498Z",
     "shell.execute_reply": "2025-05-12T16:47:04.162172Z",
     "shell.execute_reply.started": "2025-05-12T16:47:04.157682Z"
    }
   },
   "outputs": [],
   "source": [
    "model = TimeSeriesTransformerGSL(ts_dim=52,\n",
    "                                     window_size=100,\n",
    "                                     d_model=128, # TODO поменять на ts_dim\n",
    "                                     nhead=8,\n",
    "                                     num_layers=2,\n",
    "                                     dim_feedforward=128,\n",
    "                                     dropout=0.2,\n",
    "                                     gsl_k=5,\n",
    "                                     n_gnn=1,\n",
    "                                    n_hidden=256,\n",
    "                                     device='cpu')"
   ]
  },
  {
   "cell_type": "code",
   "execution_count": 24,
   "id": "6e9351b9-c1c8-41d4-887b-d0173354eecf",
   "metadata": {
    "execution": {
     "iopub.execute_input": "2025-05-12T16:47:04.996663Z",
     "iopub.status.busy": "2025-05-12T16:47:04.996502Z",
     "iopub.status.idle": "2025-05-12T16:47:05.015287Z",
     "shell.execute_reply": "2025-05-12T16:47:05.014977Z",
     "shell.execute_reply.started": "2025-05-12T16:47:04.996652Z"
    }
   },
   "outputs": [
    {
     "data": {
      "text/plain": [
       "<All keys matched successfully>"
      ]
     },
     "execution_count": 24,
     "metadata": {},
     "output_type": "execute_result"
    }
   ],
   "source": [
    "m = torch.load('/home/akozhevnikov/graphs/ts-gnn-tam/saved_models/ts_transformer_gsl_experiment.pt', weights_only=True)\n",
    "model.load_state_dict(m)"
   ]
  },
  {
   "cell_type": "code",
   "execution_count": 25,
   "id": "0d8a7631-ec4f-47d2-9979-6207676b8191",
   "metadata": {
    "execution": {
     "iopub.execute_input": "2025-05-12T16:47:07.539786Z",
     "iopub.status.busy": "2025-05-12T16:47:07.539642Z",
     "iopub.status.idle": "2025-05-12T16:47:31.299235Z",
     "shell.execute_reply": "2025-05-12T16:47:31.298867Z",
     "shell.execute_reply.started": "2025-05-12T16:47:07.539775Z"
    }
   },
   "outputs": [
    {
     "data": {
      "application/vnd.jupyter.widget-view+json": {
       "model_id": "1b1f764bfb09440ebc110f3199165684",
       "version_major": 2,
       "version_minor": 0
      },
      "text/plain": [
       "Reading data/reinartz_tep/dataset.csv:   0%|          | 0/5600000 [00:00<?, ?it/s]"
      ]
     },
     "metadata": {},
     "output_type": "display_data"
    },
    {
     "data": {
      "application/vnd.jupyter.widget-view+json": {
       "model_id": "736c83b70d8b4299a2fe4e4407d5d9a5",
       "version_major": 2,
       "version_minor": 0
      },
      "text/plain": [
       "Reading data/reinartz_tep/labels.csv:   0%|          | 0/5600000 [00:00<?, ?it/s]"
      ]
     },
     "metadata": {},
     "output_type": "display_data"
    },
    {
     "data": {
      "application/vnd.jupyter.widget-view+json": {
       "model_id": "16f76f067ac8434385fd4ede27a222ec",
       "version_major": 2,
       "version_minor": 0
      },
      "text/plain": [
       "Reading data/reinartz_tep/train_mask.csv:   0%|          | 0/5600000 [00:00<?, ?it/s]"
      ]
     },
     "metadata": {},
     "output_type": "display_data"
    },
    {
     "data": {
      "application/vnd.jupyter.widget-view+json": {
       "model_id": "9499460a2a794a8f9b315e23f54b8014",
       "version_major": 2,
       "version_minor": 0
      },
      "text/plain": [
       "Reading data/reinartz_tep/test_mask.csv:   0%|          | 0/5600000 [00:00<?, ?it/s]"
      ]
     },
     "metadata": {},
     "output_type": "display_data"
    }
   ],
   "source": [
    "from fddbenchmark import FDDDataset\n",
    "dataset_obj = FDDDataset(name='reinartz_tep')\n",
    "scaler = StandardScaler()\n",
    "scaler.fit(dataset_obj.df[dataset_obj.train_mask])\n",
    "dataset_obj.df[:] = scaler.transform(dataset_obj.df)"
   ]
  },
  {
   "cell_type": "code",
   "execution_count": 26,
   "id": "38ae327a-5353-4516-9ed2-ee69d680e3f6",
   "metadata": {
    "execution": {
     "iopub.execute_input": "2025-05-12T16:47:31.299908Z",
     "iopub.status.busy": "2025-05-12T16:47:31.299762Z",
     "iopub.status.idle": "2025-05-12T16:53:35.828703Z",
     "shell.execute_reply": "2025-05-12T16:53:35.828243Z",
     "shell.execute_reply.started": "2025-05-12T16:47:31.299871Z"
    }
   },
   "outputs": [
    {
     "data": {
      "application/vnd.jupyter.widget-view+json": {
       "model_id": "d59854d3acdb4770baff89f179827e71",
       "version_major": 2,
       "version_minor": 0
      },
      "text/plain": [
       "Creating sequence of samples:   0%|          | 0/2800 [00:00<?, ?it/s]"
      ]
     },
     "metadata": {},
     "output_type": "display_data"
    }
   ],
   "source": [
    "test_dataset = ForecastFDDDataloader(\n",
    "         dataframe=dataset_obj.df,\n",
    "         mask=dataset_obj.test_mask,  # все точки включены\n",
    "         window_size=100,\n",
    "         step_size=1,\n",
    "         use_minibatches=True,\n",
    "         batch_size=512,\n",
    "         shuffle=False,\n",
    "         data_framework='torch',\n",
    "         device='cpu'\n",
    ")"
   ]
  },
  {
   "cell_type": "code",
   "execution_count": 30,
   "id": "988f4f7e-3163-4439-95bd-65a881091103",
   "metadata": {
    "execution": {
     "iopub.execute_input": "2025-05-12T16:54:01.636344Z",
     "iopub.status.busy": "2025-05-12T16:54:01.636195Z",
     "iopub.status.idle": "2025-05-12T16:54:01.638594Z",
     "shell.execute_reply": "2025-05-12T16:54:01.638225Z",
     "shell.execute_reply.started": "2025-05-12T16:54:01.636332Z"
    }
   },
   "outputs": [],
   "source": [
    "from sklearn.metrics import classification_report"
   ]
  },
  {
   "cell_type": "code",
   "execution_count": 31,
   "id": "4593cac4-3bec-4f56-9439-9b7582b36128",
   "metadata": {
    "execution": {
     "iopub.execute_input": "2025-05-12T16:54:03.643820Z",
     "iopub.status.busy": "2025-05-12T16:54:03.643675Z",
     "iopub.status.idle": "2025-05-12T16:54:03.649798Z",
     "shell.execute_reply": "2025-05-12T16:54:03.649467Z",
     "shell.execute_reply.started": "2025-05-12T16:54:03.643809Z"
    }
   },
   "outputs": [],
   "source": [
    "import torch\n",
    "import numpy as np\n",
    "from sklearn.metrics import (\n",
    "    precision_recall_curve, accuracy_score,\n",
    "    precision_score, recall_score, f1_score, classification_report\n",
    ")\n",
    "\n",
    "def test_with_mahalanobis(\n",
    "    model, test_dl, scaler, dataset_obj,\n",
    "    val_ratio: float = 0.2,\n",
    "    random_state: int = 42\n",
    "):\n",
    "    model.eval()\n",
    "    all_preds_raw = []\n",
    "    all_targets_raw = []\n",
    "    all_true_labels = []\n",
    "\n",
    "    # 1) Собираем предсказания, цели и метки\n",
    "    with torch.no_grad():\n",
    "        for i in range(len(test_dl)):\n",
    "            ts_batch, _, target_batch = test_dl[i]\n",
    "            pred = model(ts_batch)\n",
    "\n",
    "            # Денормализация\n",
    "            pred_np = scaler.inverse_transform(pred.cpu().numpy())\n",
    "            targ_np = scaler.inverse_transform(target_batch.cpu().numpy())\n",
    "\n",
    "            all_preds_raw.append(pred_np)\n",
    "            all_targets_raw.append(targ_np)\n",
    "\n",
    "            # true_labels: 1 если аномалия, 0 иначе\n",
    "            # находим индексы таргетных точек\n",
    "            batch_idx = test_dl.batch_seq[i]\n",
    "            batch_end_idx = test_dl.batch_seq[i + 1]\n",
    "            window_ends = test_dl.window_end_indices[batch_idx:batch_end_idx]\n",
    "            target_indices = test_dl.index[window_ends + 1]\n",
    "            labels = (dataset_obj.label.loc[target_indices].values != 0).astype(int)\n",
    "            all_true_labels.append(labels)\n",
    "\n",
    "    # Переводим в двумерные массивы (n_samples, dim)\n",
    "    preds_raw_arr = np.vstack(all_preds_raw)\n",
    "    targets_raw_arr = np.vstack(all_targets_raw)\n",
    "    true_labels = np.concatenate(all_true_labels)\n",
    "\n",
    "    # 2) Формируем валидационный и тестовый индексы\n",
    "    n = preds_raw_arr.shape[0]\n",
    "    rng = np.random.default_rng(random_state)\n",
    "    perm = rng.permutation(n)\n",
    "    n_val = int(n * val_ratio)\n",
    "    idx_val, idx_test = perm[:n_val], perm[n_val:]\n",
    "\n",
    "    # 3) Считаем векторы ошибок и ковариацию на валидации\n",
    "    diffs = (targets_raw_arr - preds_raw_arr).reshape(n, -1)\n",
    "    diffs_val = diffs[idx_val]\n",
    "    cov = np.cov(diffs_val, rowvar=False) + 1e-6 * np.eye(diffs_val.shape[1])\n",
    "    inv_cov = np.linalg.inv(cov)\n",
    "\n",
    "    # Функция Mahalanobis distance\n",
    "    def mahalanobis_distances(X):\n",
    "        L = X @ inv_cov\n",
    "        return np.einsum('ij,ij->i', L, X)\n",
    "\n",
    "    dists_val = mahalanobis_distances(diffs[idx_val])\n",
    "    dists_test = mahalanobis_distances(diffs[idx_test])\n",
    "    labels_val = true_labels[idx_val]\n",
    "    labels_test = true_labels[idx_test]\n",
    "\n",
    "    # 4) Подбор порога на валидации по F1\n",
    "    precisions, recalls, thresholds = precision_recall_curve(labels_val, dists_val)\n",
    "    f1s = 2 * precisions * recalls / (precisions + recalls + 1e-8)\n",
    "    best_idx = np.nanargmax(f1s)\n",
    "    best_thresh = thresholds[best_idx]\n",
    "\n",
    "    print(f\"Chosen Mahalanobis threshold: {best_thresh:.4f}, F1 on val: {f1s[best_idx]:.4f}\")\n",
    "\n",
    "    # 5) Оцениваем на тесте\n",
    "    preds_test = (dists_test > best_thresh).astype(int)\n",
    "    metrics = {\n",
    "        'accuracy': accuracy_score(labels_test, preds_test),\n",
    "        'precision': precision_score(labels_test, preds_test, zero_division=0),\n",
    "        'recall': recall_score(labels_test, preds_test, zero_division=0),\n",
    "        'f1': f1_score(labels_test, preds_test, zero_division=0),\n",
    "    }\n",
    "\n",
    "    print(\"\\nTest classification metrics:\")\n",
    "    print(f\"Accuracy: {metrics['accuracy']:.4f}\")\n",
    "    print(f\"Precision: {metrics['precision']:.4f}\")\n",
    "    print(f\"Recall: {metrics['recall']:.4f}\")\n",
    "    print(f\"F1: {metrics['f1']:.4f}\")\n",
    "    print(\"\\n\" + classification_report(labels_test, preds_test))\n",
    "\n",
    "    return {\n",
    "        'threshold': best_thresh,\n",
    "        'val_f1': f1s[best_idx],\n",
    "        **metrics\n",
    "    }\n"
   ]
  },
  {
   "cell_type": "code",
   "execution_count": 33,
   "id": "dab19781-b7a5-4738-a006-158ca09ddb6a",
   "metadata": {
    "execution": {
     "iopub.execute_input": "2025-05-12T17:07:26.318244Z",
     "iopub.status.busy": "2025-05-12T17:07:26.318099Z",
     "iopub.status.idle": "2025-05-12T17:07:26.342920Z",
     "shell.execute_reply": "2025-05-12T17:07:26.342503Z",
     "shell.execute_reply.started": "2025-05-12T17:07:26.318233Z"
    }
   },
   "outputs": [],
   "source": [
    "import torch\n",
    "import numpy as np\n",
    "from sklearn.metrics import f1_score, precision_score, recall_score, accuracy_score, classification_report\n",
    "from sklearn.covariance import EmpiricalCovariance\n",
    "from sklearn.model_selection import train_test_split\n",
    "\n",
    "def evaluate_with_mahalanobis(model, test_dl, scaler, dataset_obj, val_ratio=0.2, seed=42):\n",
    "    model.eval()\n",
    "    all_preds_raw = []\n",
    "    all_targets = []\n",
    "    all_errors = []\n",
    "    all_true_labels = []\n",
    "\n",
    "    with torch.no_grad():\n",
    "        for i in range(len(test_dl) - 1):  # exclude last batch\n",
    "            ts_batch, _, target_batch = test_dl[i]\n",
    "            pred = model(ts_batch)\n",
    "\n",
    "            target_raw = scaler.inverse_transform(target_batch.cpu().numpy())\n",
    "            pred_raw = scaler.inverse_transform(pred.cpu().numpy())\n",
    "\n",
    "            error = target_raw - pred_raw\n",
    "            all_preds_raw.append(pred_raw)\n",
    "            all_targets.append(target_raw)\n",
    "            all_errors.append(error)\n",
    "\n",
    "            batch_idx = test_dl.batch_seq[i]\n",
    "            batch_end_idx = test_dl.batch_seq[i + 1]\n",
    "            batch_window_end_indices = test_dl.window_end_indices[batch_idx:batch_end_idx]\n",
    "            target_indices = test_dl.index[batch_window_end_indices + 1]\n",
    "\n",
    "            true_labels = (dataset_obj.label.loc[target_indices] != 0).astype(int).values\n",
    "            all_true_labels.extend(true_labels)\n",
    "\n",
    "    all_errors = np.concatenate(all_errors, axis=0)\n",
    "    all_true_labels = np.array(all_true_labels)\n",
    "\n",
    "    # Split into validation and test sets\n",
    "    d_mahalanobis = []\n",
    "    cov_estimator = EmpiricalCovariance().fit(all_errors)\n",
    "    for e in all_errors:\n",
    "        d = cov_estimator.mahalanobis([e])[0]\n",
    "        d_mahalanobis.append(d)\n",
    "    d_mahalanobis = np.array(d_mahalanobis)\n",
    "\n",
    "    d_val, d_test, y_val, y_test = train_test_split(\n",
    "        d_mahalanobis, all_true_labels, test_size=1 - val_ratio, stratify=all_true_labels, random_state=seed\n",
    "    )\n",
    "\n",
    "    # Threshold selection by max macro-F1\n",
    "    best_macro_f1 = -1\n",
    "    best_thresh = None\n",
    "    candidate_thresholds = np.linspace(np.min(d_val), np.max(d_val), 100)\n",
    "\n",
    "    for t in candidate_thresholds:\n",
    "        preds = (d_val > t).astype(int)\n",
    "        if np.any(preds == 0) and np.any(preds == 1):\n",
    "            macro = f1_score(y_val, preds, average='macro')\n",
    "            if macro > best_macro_f1:\n",
    "                best_macro_f1 = macro\n",
    "                best_thresh = t\n",
    "\n",
    "    print(f\"Chosen Mahalanobis threshold (by macro-F1): {best_thresh:.4f}, macro-F1: {best_macro_f1:.4f}\")\n",
    "\n",
    "    # Apply to test set\n",
    "    test_preds = (d_test > best_thresh).astype(int)\n",
    "\n",
    "    acc = accuracy_score(y_test, test_preds)\n",
    "    prec = precision_score(y_test, test_preds, zero_division=0)\n",
    "    rec = recall_score(y_test, test_preds, zero_division=0)\n",
    "    f1 = f1_score(y_test, test_preds, zero_division=0)\n",
    "\n",
    "    print(\"\\nTest classification metrics:\")\n",
    "    print(f\"Accuracy:  {acc:.4f}\")\n",
    "    print(f\"Precision: {prec:.4f}\")\n",
    "    print(f\"Recall:    {rec:.4f}\")\n",
    "    print(f\"F1:        {f1:.4f}\\n\")\n",
    "    print(classification_report(y_test, test_preds))\n",
    "\n",
    "    return {\n",
    "        'threshold': best_thresh,\n",
    "        'macro_f1_val': best_macro_f1,\n",
    "        'accuracy_test': acc,\n",
    "        'precision_test': prec,\n",
    "        'recall_test': rec,\n",
    "        'f1_test': f1\n",
    "    }\n"
   ]
  },
  {
   "cell_type": "code",
   "execution_count": 32,
   "id": "4315f328-f613-44f2-8ea9-9fb442afb6cd",
   "metadata": {
    "execution": {
     "iopub.execute_input": "2025-05-12T16:54:12.248687Z",
     "iopub.status.busy": "2025-05-12T16:54:12.248534Z",
     "iopub.status.idle": "2025-05-12T17:01:58.435054Z",
     "shell.execute_reply": "2025-05-12T17:01:58.434705Z",
     "shell.execute_reply.started": "2025-05-12T16:54:12.248675Z"
    }
   },
   "outputs": [
    {
     "name": "stdout",
     "output_type": "stream",
     "text": [
      "Chosen Mahalanobis threshold: 14.6553, F1 on val: 0.8490\n",
      "\n",
      "Test classification metrics:\n",
      "Accuracy: 0.7368\n",
      "Precision: 0.7369\n",
      "Recall: 1.0000\n",
      "F1: 0.8485\n",
      "\n",
      "              precision    recall  f1-score   support\n",
      "\n",
      "           0       0.44      0.00      0.00    224104\n",
      "           1       0.74      1.00      0.85    627522\n",
      "\n",
      "    accuracy                           0.74    851626\n",
      "   macro avg       0.59      0.50      0.42    851626\n",
      "weighted avg       0.66      0.74      0.63    851626\n",
      "\n"
     ]
    }
   ],
   "source": [
    "results = test_with_mahalanobis(\n",
    "    model=model,\n",
    "    test_dl=test_dataset,\n",
    "    scaler=scaler,\n",
    "    dataset_obj=dataset_obj,\n",
    "    val_ratio=0.2,\n",
    "    random_state=42\n",
    ")"
   ]
  },
  {
   "cell_type": "code",
   "execution_count": null,
   "id": "f10e5981-2ef2-49d2-99a1-89fd67ec6562",
   "metadata": {},
   "outputs": [],
   "source": [
    "results = test_with_mahalanobis(\n",
    "    model=model,\n",
    "    test_dl=test_dataset,\n",
    "    scaler=scaler,\n",
    "    dataset_obj=dataset_obj,\n",
    "    val_ratio=0.2,\n",
    "    random_state=42\n",
    ")"
   ]
  },
  {
   "cell_type": "code",
   "execution_count": 35,
   "id": "3f44ea5a-4175-44cc-a9c3-4079b0b94c1c",
   "metadata": {
    "execution": {
     "iopub.execute_input": "2025-05-12T17:07:51.978805Z",
     "iopub.status.busy": "2025-05-12T17:07:51.978660Z",
     "iopub.status.idle": "2025-05-12T17:17:42.895590Z",
     "shell.execute_reply": "2025-05-12T17:17:42.895229Z",
     "shell.execute_reply.started": "2025-05-12T17:07:51.978794Z"
    },
    "scrolled": true
   },
   "outputs": [
    {
     "name": "stdout",
     "output_type": "stream",
     "text": [
      "Chosen Mahalanobis threshold (by macro-F1): 5.0346, macro-F1: 0.4243\n",
      "\n",
      "Test classification metrics:\n",
      "Accuracy:  0.7370\n",
      "Precision: 0.7370\n",
      "Recall:    1.0000\n",
      "F1:        0.8486\n",
      "\n",
      "              precision    recall  f1-score   support\n",
      "\n",
      "           0       0.43      0.00      0.00    223978\n",
      "           1       0.74      1.00      0.85    627581\n",
      "\n",
      "    accuracy                           0.74    851559\n",
      "   macro avg       0.58      0.50      0.42    851559\n",
      "weighted avg       0.66      0.74      0.63    851559\n",
      "\n"
     ]
    }
   ],
   "source": [
    "test_metrics = evaluate_with_mahalanobis(\n",
    "    model=model,\n",
    "    test_dl=test_dataset,\n",
    "    scaler=scaler,\n",
    "    dataset_obj=dataset_obj,\n",
    "    val_ratio=0.2,\n",
    ")"
   ]
  },
  {
   "cell_type": "code",
   "execution_count": 45,
   "id": "0a9da674-f974-4a47-a889-53faa38faa0a",
   "metadata": {
    "execution": {
     "iopub.execute_input": "2025-05-12T17:36:55.492475Z",
     "iopub.status.busy": "2025-05-12T17:36:55.492327Z",
     "iopub.status.idle": "2025-05-12T17:36:55.496915Z",
     "shell.execute_reply": "2025-05-12T17:36:55.496571Z",
     "shell.execute_reply.started": "2025-05-12T17:36:55.492463Z"
    }
   },
   "outputs": [],
   "source": [
    "import torch\n",
    "import numpy as np\n",
    "from sklearn.linear_model import LogisticRegression\n",
    "from sklearn.metrics import accuracy_score, precision_score, recall_score, f1_score, classification_report\n",
    "from sklearn.model_selection import train_test_split\n",
    "\n",
    "def test_with_vector_error_classifier(model, test_dl, scaler, dataset_obj, val_ratio=0.2, seed=42):\n",
    "    model.eval()\n",
    "    all_error_vectors = []\n",
    "    all_true_labels = []\n",
    "\n",
    "    with torch.no_grad():\n",
    "        for i in range(len(test_dl) - 1):  # exclude last batch\n",
    "            ts_batch, _, target_batch = test_dl[i]\n",
    "            pred = model(ts_batch)\n",
    "\n",
    "            # Denormalize\n",
    "            target_raw = scaler.inverse_transform(target_batch.cpu().numpy())\n",
    "            pred_raw = scaler.inverse_transform(pred.cpu().numpy())\n",
    "\n",
    "            # Error vector: target - prediction\n",
    "            error_vector = np.abs(target_raw - pred_raw)  # shape (batch_size, n_features)\n",
    "            all_error_vectors.append(error_vector)\n",
    "\n",
    "            # Target labels\n",
    "            batch_idx = test_dl.batch_seq[i]\n",
    "            batch_end_idx = test_dl.batch_seq[i + 1]\n",
    "            batch_window_end_indices = test_dl.window_end_indices[batch_idx:batch_end_idx]\n",
    "            target_indices = test_dl.index[batch_window_end_indices + 1]\n",
    "            true_labels = (dataset_obj.label.loc[target_indices] != 0).astype(int).values\n",
    "            all_true_labels.extend(true_labels)\n",
    "\n",
    "    # Stack and split\n",
    "    X = np.vstack(all_error_vectors)  # shape: (n_samples, n_features)\n",
    "    y = np.array(all_true_labels)\n",
    "\n",
    "    X_val, X_test, y_val, y_test = train_test_split(\n",
    "        X, y, test_size=1 - val_ratio, stratify=y, random_state=seed\n",
    "    )\n",
    "\n",
    "    # Train classifier\n",
    "    clf = LogisticRegression(max_iter=1000)\n",
    "    clf.fit(X_val, y_val)\n",
    "\n",
    "    # Predict on test set\n",
    "    test_preds = clf.predict(X_test)\n",
    "\n",
    "    # Metrics\n",
    "    acc = accuracy_score(y_test, test_preds)\n",
    "    prec = precision_score(y_test, test_preds, zero_division=0)\n",
    "    rec = recall_score(y_test, test_preds, zero_division=0)\n",
    "    f1 = f1_score(y_test, test_preds, zero_division=0)\n",
    "\n",
    "    print(\"\\nTest classification metrics (LogReg on vector error):\")\n",
    "    print(f\"Accuracy:  {acc:.4f}\")\n",
    "    print(f\"Precision: {prec:.4f}\")\n",
    "    print(f\"Recall:    {rec:.4f}\")\n",
    "    print(f\"F1:        {f1:.4f}\")\n",
    "    print(classification_report(y_test, test_preds))\n",
    "\n",
    "    return {\n",
    "        'model': clf,\n",
    "        'accuracy_test': acc,\n",
    "        'precision_test': prec,\n",
    "        'recall_test': rec,\n",
    "        'f1_test': f1\n",
    "    }\n"
   ]
  },
  {
   "cell_type": "code",
   "execution_count": 46,
   "id": "8650dfa1-aa06-4f19-8f68-379851a37852",
   "metadata": {
    "execution": {
     "iopub.execute_input": "2025-05-12T17:36:57.366552Z",
     "iopub.status.busy": "2025-05-12T17:36:57.366403Z",
     "iopub.status.idle": "2025-05-12T17:44:46.419107Z",
     "shell.execute_reply": "2025-05-12T17:44:46.418614Z",
     "shell.execute_reply.started": "2025-05-12T17:36:57.366540Z"
    }
   },
   "outputs": [
    {
     "name": "stdout",
     "output_type": "stream",
     "text": [
      "\n",
      "Test classification metrics (Logistic Regression on prediction errors):\n",
      "Accuracy:  0.7370\n",
      "Precision: 0.7370\n",
      "Recall:    1.0000\n",
      "F1:        0.8486\n",
      "\n"
     ]
    },
    {
     "name": "stderr",
     "output_type": "stream",
     "text": [
      "/home/akozhevnikov/anaconda3/envs/torch/lib/python3.10/site-packages/sklearn/metrics/_classification.py:1531: UndefinedMetricWarning: Precision is ill-defined and being set to 0.0 in labels with no predicted samples. Use `zero_division` parameter to control this behavior.\n",
      "  _warn_prf(average, modifier, f\"{metric.capitalize()} is\", len(result))\n"
     ]
    },
    {
     "name": "stdout",
     "output_type": "stream",
     "text": [
      "              precision    recall  f1-score   support\n",
      "\n",
      "           0       0.00      0.00      0.00    223978\n",
      "           1       0.74      1.00      0.85    627581\n",
      "\n",
      "    accuracy                           0.74    851559\n",
      "   macro avg       0.37      0.50      0.42    851559\n",
      "weighted avg       0.54      0.74      0.63    851559\n",
      "\n"
     ]
    },
    {
     "name": "stderr",
     "output_type": "stream",
     "text": [
      "/home/akozhevnikov/anaconda3/envs/torch/lib/python3.10/site-packages/sklearn/metrics/_classification.py:1531: UndefinedMetricWarning: Precision is ill-defined and being set to 0.0 in labels with no predicted samples. Use `zero_division` parameter to control this behavior.\n",
      "  _warn_prf(average, modifier, f\"{metric.capitalize()} is\", len(result))\n",
      "/home/akozhevnikov/anaconda3/envs/torch/lib/python3.10/site-packages/sklearn/metrics/_classification.py:1531: UndefinedMetricWarning: Precision is ill-defined and being set to 0.0 in labels with no predicted samples. Use `zero_division` parameter to control this behavior.\n",
      "  _warn_prf(average, modifier, f\"{metric.capitalize()} is\", len(result))\n"
     ]
    }
   ],
   "source": [
    "test_metrics = test_with_logreg_classifier(\n",
    "    model=model,\n",
    "    test_dl=test_dataset,\n",
    "    scaler=scaler,\n",
    "    dataset_obj=dataset_obj,\n",
    "    val_ratio=0.2,\n",
    ")"
   ]
  },
  {
   "cell_type": "code",
   "execution_count": 54,
   "id": "7dc5c69f-b113-4f63-b7f2-67fa73da4ce2",
   "metadata": {
    "execution": {
     "iopub.execute_input": "2025-05-12T18:24:44.436725Z",
     "iopub.status.busy": "2025-05-12T18:24:44.436549Z",
     "iopub.status.idle": "2025-05-12T18:24:44.442115Z",
     "shell.execute_reply": "2025-05-12T18:24:44.441596Z",
     "shell.execute_reply.started": "2025-05-12T18:24:44.436714Z"
    }
   },
   "outputs": [],
   "source": [
    "import torch\n",
    "import numpy as np\n",
    "from sklearn.metrics import accuracy_score, precision_score, recall_score, f1_score, classification_report\n",
    "from sklearn.model_selection import train_test_split\n",
    "from xgboost import XGBClassifier\n",
    "from sklearn.preprocessing import StandardScaler\n",
    "\n",
    "def test_with_boosting_error_classifier(model, test_dl, scaler, dataset_obj, val_ratio=0.2, seed=42, early_stopping_rounds=10):\n",
    "    model.eval()\n",
    "    all_error_vectors = []\n",
    "    all_true_labels = []\n",
    "\n",
    "    with torch.no_grad():\n",
    "        for i in range(len(test_dl) - 1):  # exclude last batch\n",
    "            ts_batch, _, target_batch = test_dl[i]\n",
    "            pred = model(ts_batch)\n",
    "\n",
    "            # Denormalize\n",
    "            target_raw = scaler.inverse_transform(target_batch.cpu().numpy())\n",
    "            pred_raw = scaler.inverse_transform(pred.cpu().numpy())\n",
    "\n",
    "            # Error vector: target - prediction\n",
    "            error_vector = np.abs(target_raw - pred_raw)\n",
    "            all_error_vectors.append(error_vector)\n",
    "\n",
    "            # Target labels\n",
    "            batch_idx = test_dl.batch_seq[i]\n",
    "            batch_end_idx = test_dl.batch_seq[i + 1]\n",
    "            batch_window_end_indices = test_dl.window_end_indices[batch_idx:batch_end_idx]\n",
    "            target_indices = test_dl.index[batch_window_end_indices + 1]\n",
    "            true_labels = (dataset_obj.label.loc[target_indices] != 0).astype(int).values\n",
    "            all_true_labels.extend(true_labels)\n",
    "\n",
    "    # Stack and split\n",
    "    X = np.vstack(all_error_vectors)\n",
    "    y = np.array(all_true_labels)\n",
    "\n",
    "    X_train, X_val, y_train, y_val = train_test_split(\n",
    "        X, y, test_size=1-val_ratio, stratify=y, random_state=seed\n",
    "    )\n",
    "\n",
    "    # Standardize input for boosting (optional but helps convergence)\n",
    "    scaler_feat = StandardScaler()\n",
    "    X_train = scaler_feat.fit_transform(X_train)\n",
    "    X_val = scaler_feat.transform(X_val)\n",
    "\n",
    "    # Train XGBoost classifier with early stopping\n",
    "    clf = XGBClassifier(\n",
    "        n_estimators=1000,\n",
    "        eval_metric='logloss',\n",
    "        use_label_encoder=False,\n",
    "        random_state=seed,\n",
    "        early_stopping_rounds=10,\n",
    "        verbosity=0\n",
    "    )\n",
    "\n",
    "    clf.fit(\n",
    "        X_train, y_train,\n",
    "        eval_set=[(X_val, y_val)],\n",
    "        verbose=False\n",
    "    )\n",
    "\n",
    "    # Predict\n",
    "    y_pred = clf.predict(X_val)\n",
    "\n",
    "    # Metrics\n",
    "    acc = accuracy_score(y_val, y_pred)\n",
    "    prec = precision_score(y_val, y_pred, zero_division=0)\n",
    "    rec = recall_score(y_val, y_pred, zero_division=0)\n",
    "    f1 = f1_score(y_val, y_pred, zero_division=0)\n",
    "\n",
    "    print(\"\\nValidation classification metrics (XGBoost on vector error):\")\n",
    "    print(f\"Accuracy:  {acc:.4f}\")\n",
    "    print(f\"Precision: {prec:.4f}\")\n",
    "    print(f\"Recall:    {rec:.4f}\")\n",
    "    print(f\"F1:        {f1:.4f}\")\n",
    "    print(classification_report(y_val, y_pred))\n",
    "\n",
    "    return {\n",
    "        'model': clf,\n",
    "        'scaler': scaler_feat,\n",
    "        'accuracy_val': acc,\n",
    "        'precision_val': prec,\n",
    "        'recall_val': rec,\n",
    "        'f1_val': f1\n",
    "    }"
   ]
  },
  {
   "cell_type": "code",
   "execution_count": 55,
   "id": "3c76e8c2-ee6f-4d1b-b0ea-67ccc9e8623a",
   "metadata": {
    "execution": {
     "iopub.execute_input": "2025-05-12T18:24:51.494311Z",
     "iopub.status.busy": "2025-05-12T18:24:51.494137Z",
     "iopub.status.idle": "2025-05-12T18:32:43.057950Z",
     "shell.execute_reply": "2025-05-12T18:32:43.057689Z",
     "shell.execute_reply.started": "2025-05-12T18:24:51.494299Z"
    }
   },
   "outputs": [
    {
     "name": "stdout",
     "output_type": "stream",
     "text": [
      "\n",
      "Validation classification metrics (XGBoost on vector error):\n",
      "Accuracy:  0.7698\n",
      "Precision: 0.8535\n",
      "Recall:    0.8302\n",
      "F1:        0.8417\n",
      "              precision    recall  f1-score   support\n",
      "\n",
      "           0       0.56      0.60      0.58    251975\n",
      "           1       0.85      0.83      0.84    706029\n",
      "\n",
      "    accuracy                           0.77    958004\n",
      "   macro avg       0.71      0.72      0.71    958004\n",
      "weighted avg       0.78      0.77      0.77    958004\n",
      "\n"
     ]
    }
   ],
   "source": [
    "test_metrics = test_with_boosting_error_classifier(\n",
    "    model=model,\n",
    "    test_dl=test_dataset,\n",
    "    scaler=scaler,\n",
    "    dataset_obj=dataset_obj,\n",
    "    val_ratio=0.1,\n",
    ")"
   ]
  },
  {
   "cell_type": "code",
   "execution_count": null,
   "id": "b8a9e6ac-12c0-4e10-bdc3-25dd63fa81f8",
   "metadata": {},
   "outputs": [],
   "source": []
  },
  {
   "cell_type": "code",
   "execution_count": null,
   "id": "8ed8df1c-d6ec-4759-975b-41cb85a3aae7",
   "metadata": {},
   "outputs": [],
   "source": []
  },
  {
   "cell_type": "code",
   "execution_count": null,
   "id": "9dbce969-3093-443f-9ace-16947f5a4912",
   "metadata": {},
   "outputs": [],
   "source": []
  },
  {
   "cell_type": "code",
   "execution_count": null,
   "id": "64f7d112-4518-4788-97e9-912350840a2f",
   "metadata": {},
   "outputs": [],
   "source": []
  },
  {
   "cell_type": "code",
   "execution_count": 44,
   "id": "dda7f46e-636a-406f-b8ff-aa2214aba610",
   "metadata": {
    "execution": {
     "iopub.execute_input": "2025-05-12T17:35:51.591756Z",
     "iopub.status.busy": "2025-05-12T17:35:51.591607Z",
     "iopub.status.idle": "2025-05-12T17:35:51.594635Z",
     "shell.execute_reply": "2025-05-12T17:35:51.594344Z",
     "shell.execute_reply.started": "2025-05-12T17:35:51.591745Z"
    }
   },
   "outputs": [
    {
     "data": {
      "text/plain": [
       "array([[0.25835124]])"
      ]
     },
     "execution_count": 44,
     "metadata": {},
     "output_type": "execute_result"
    }
   ],
   "source": [
    "test_metrics['model'].coef_"
   ]
  },
  {
   "cell_type": "code",
   "execution_count": null,
   "id": "a18b08db-1572-4b88-b623-6a2f9144c30a",
   "metadata": {},
   "outputs": [],
   "source": []
  },
  {
   "cell_type": "code",
   "execution_count": 18,
   "id": "49874153-56d1-48ec-a5ff-d2c26b0eb6ca",
   "metadata": {
    "execution": {
     "iopub.execute_input": "2025-05-10T13:56:29.932218Z",
     "iopub.status.busy": "2025-05-10T13:56:29.932071Z",
     "iopub.status.idle": "2025-05-10T13:56:30.079062Z",
     "shell.execute_reply": "2025-05-10T13:56:30.078716Z",
     "shell.execute_reply.started": "2025-05-10T13:56:29.932206Z"
    }
   },
   "outputs": [],
   "source": [
    "import matplotlib.pyplot as plt"
   ]
  },
  {
   "cell_type": "code",
   "execution_count": 19,
   "id": "eb57d28c-e593-45dd-956a-6ac3797ee080",
   "metadata": {
    "execution": {
     "iopub.execute_input": "2025-05-10T13:56:30.165260Z",
     "iopub.status.busy": "2025-05-10T13:56:30.165061Z",
     "iopub.status.idle": "2025-05-10T13:56:30.168315Z",
     "shell.execute_reply": "2025-05-10T13:56:30.168020Z",
     "shell.execute_reply.started": "2025-05-10T13:56:30.165247Z"
    }
   },
   "outputs": [
    {
     "data": {
      "text/plain": [
       "0.06987106"
      ]
     },
     "execution_count": 19,
     "metadata": {},
     "output_type": "execute_result"
    }
   ],
   "source": [
    "test_metrics[1].min()"
   ]
  },
  {
   "cell_type": "code",
   "execution_count": 21,
   "id": "c3e35fd4-4c61-42b9-96e6-f827e25991e3",
   "metadata": {
    "execution": {
     "iopub.execute_input": "2025-05-12T16:38:16.726006Z",
     "iopub.status.busy": "2025-05-12T16:38:16.725834Z",
     "iopub.status.idle": "2025-05-12T16:38:16.812891Z",
     "shell.execute_reply": "2025-05-12T16:38:16.812411Z",
     "shell.execute_reply.started": "2025-05-12T16:38:16.725994Z"
    }
   },
   "outputs": [
    {
     "data": {
      "image/png": "[encoded data removed]",
      "text/plain": [
       "<Figure size 640x480 with 1 Axes>"
      ]
     },
     "metadata": {},
     "output_type": "display_data"
    }
   ],
   "source": [
    "plt.plot([i.mean() for i in test_metrics[-1]], label='pred')\n",
    "plt.plot([i.mean() for i in test_metrics[-2]], label='true')\n",
    "\n",
    "plt.grid()\n",
    "plt.legend()\n",
    "plt.show()"
   ]
  },
  {
   "cell_type": "code",
   "execution_count": 45,
   "id": "7af60b0b-2475-48c6-a45d-bcdfdafe0f00",
   "metadata": {
    "execution": {
     "iopub.execute_input": "2025-05-09T11:11:43.601223Z",
     "iopub.status.busy": "2025-05-09T11:11:43.601072Z",
     "iopub.status.idle": "2025-05-09T11:11:43.638001Z",
     "shell.execute_reply": "2025-05-09T11:11:43.637738Z",
     "shell.execute_reply.started": "2025-05-09T11:11:43.601211Z"
    }
   },
   "outputs": [],
   "source": [
    "a = np.array([i.mean() for i in test_metrics[-1]])\n",
    "b = np.array([i.mean() for i in test_metrics[-2]])"
   ]
  },
  {
   "cell_type": "code",
   "execution_count": 50,
   "id": "6be32ca0-1418-4dca-9a3a-53786fd231ae",
   "metadata": {
    "execution": {
     "iopub.execute_input": "2025-05-09T11:12:30.526532Z",
     "iopub.status.busy": "2025-05-09T11:12:30.526370Z",
     "iopub.status.idle": "2025-05-09T11:12:30.529376Z",
     "shell.execute_reply": "2025-05-09T11:12:30.529131Z",
     "shell.execute_reply.started": "2025-05-09T11:12:30.526520Z"
    }
   },
   "outputs": [
    {
     "data": {
      "text/plain": [
       "0.0799960434436798"
      ]
     },
     "execution_count": 50,
     "metadata": {},
     "output_type": "execute_result"
    }
   ],
   "source": [
    "abs(a - b).mean() * 1.2"
   ]
  },
  {
   "cell_type": "code",
   "execution_count": 70,
   "id": "f2ebec66-451b-4dc0-adc8-98d294fcc7b2",
   "metadata": {
    "execution": {
     "iopub.execute_input": "2025-05-09T11:30:33.356335Z",
     "iopub.status.busy": "2025-05-09T11:30:33.356160Z",
     "iopub.status.idle": "2025-05-09T11:30:33.388768Z",
     "shell.execute_reply": "2025-05-09T11:30:33.388437Z",
     "shell.execute_reply.started": "2025-05-09T11:30:33.356323Z"
    }
   },
   "outputs": [],
   "source": [
    "from sklearn.linear_model import LogisticRegression"
   ]
  },
  {
   "cell_type": "code",
   "execution_count": 87,
   "id": "2cdf57bf-6564-4fcd-bfd8-aeed09d68d7e",
   "metadata": {
    "execution": {
     "iopub.execute_input": "2025-05-09T11:33:39.119956Z",
     "iopub.status.busy": "2025-05-09T11:33:39.119750Z",
     "iopub.status.idle": "2025-05-09T11:33:39.122103Z",
     "shell.execute_reply": "2025-05-09T11:33:39.121870Z",
     "shell.execute_reply.started": "2025-05-09T11:33:39.119941Z"
    }
   },
   "outputs": [],
   "source": [
    "all_preds_raw = test_metrics[-2]\n",
    "y = test_metrics[-1]"
   ]
  },
  {
   "cell_type": "code",
   "execution_count": 79,
   "id": "dd45f180-7d18-46c8-ba97-09723502717f",
   "metadata": {
    "execution": {
     "iopub.execute_input": "2025-05-09T11:32:25.133785Z",
     "iopub.status.busy": "2025-05-09T11:32:25.133642Z",
     "iopub.status.idle": "2025-05-09T11:32:25.177380Z",
     "shell.execute_reply": "2025-05-09T11:32:25.176856Z",
     "shell.execute_reply.started": "2025-05-09T11:32:25.133774Z"
    }
   },
   "outputs": [
    {
     "ename": "AttributeError",
     "evalue": "'numpy.ndarray' object has no attribute '_validate_params'",
     "output_type": "error",
     "traceback": [
      "\u001b[0;31m---------------------------------------------------------------------------\u001b[0m",
      "\u001b[0;31mAttributeError\u001b[0m                            Traceback (most recent call last)",
      "Cell \u001b[0;32mIn[79], line 1\u001b[0m\n\u001b[0;32m----> 1\u001b[0m l \u001b[38;5;241m=\u001b[39m \u001b[43mLogisticRegression\u001b[49m\u001b[38;5;241;43m.\u001b[39;49m\u001b[43mfit\u001b[49m\u001b[43m(\u001b[49m\u001b[43mnp\u001b[49m\u001b[38;5;241;43m.\u001b[39;49m\u001b[43mstack\u001b[49m\u001b[43m(\u001b[49m\u001b[43mall_preds_raw\u001b[49m\u001b[43m)\u001b[49m\u001b[43m,\u001b[49m\u001b[43m \u001b[49m\u001b[43my\u001b[49m\u001b[43m)\u001b[49m\n",
      "File \u001b[0;32m~/anaconda3/envs/torch/lib/python3.10/site-packages/sklearn/base.py:1466\u001b[0m, in \u001b[0;36m_fit_context.<locals>.decorator.<locals>.wrapper\u001b[0;34m(estimator, *args, **kwargs)\u001b[0m\n\u001b[1;32m   1461\u001b[0m partial_fit_and_fitted \u001b[38;5;241m=\u001b[39m (\n\u001b[1;32m   1462\u001b[0m     fit_method\u001b[38;5;241m.\u001b[39m\u001b[38;5;18m__name__\u001b[39m \u001b[38;5;241m==\u001b[39m \u001b[38;5;124m\"\u001b[39m\u001b[38;5;124mpartial_fit\u001b[39m\u001b[38;5;124m\"\u001b[39m \u001b[38;5;129;01mand\u001b[39;00m _is_fitted(estimator)\n\u001b[1;32m   1463\u001b[0m )\n\u001b[1;32m   1465\u001b[0m \u001b[38;5;28;01mif\u001b[39;00m \u001b[38;5;129;01mnot\u001b[39;00m global_skip_validation \u001b[38;5;129;01mand\u001b[39;00m \u001b[38;5;129;01mnot\u001b[39;00m partial_fit_and_fitted:\n\u001b[0;32m-> 1466\u001b[0m     \u001b[43mestimator\u001b[49m\u001b[38;5;241;43m.\u001b[39;49m\u001b[43m_validate_params\u001b[49m()\n\u001b[1;32m   1468\u001b[0m \u001b[38;5;28;01mwith\u001b[39;00m config_context(\n\u001b[1;32m   1469\u001b[0m     skip_parameter_validation\u001b[38;5;241m=\u001b[39m(\n\u001b[1;32m   1470\u001b[0m         prefer_skip_nested_validation \u001b[38;5;129;01mor\u001b[39;00m global_skip_validation\n\u001b[1;32m   1471\u001b[0m     )\n\u001b[1;32m   1472\u001b[0m ):\n\u001b[1;32m   1473\u001b[0m     \u001b[38;5;28;01mreturn\u001b[39;00m fit_method(estimator, \u001b[38;5;241m*\u001b[39margs, \u001b[38;5;241m*\u001b[39m\u001b[38;5;241m*\u001b[39mkwargs)\n",
      "\u001b[0;31mAttributeError\u001b[0m: 'numpy.ndarray' object has no attribute '_validate_params'"
     ]
    }
   ],
   "source": [
    "l = LogisticRegression.fit(np.stack(all_preds_raw), y)"
   ]
  },
  {
   "cell_type": "code",
   "execution_count": 80,
   "id": "437951e0-0556-4c85-bc7b-c7257eb80172",
   "metadata": {
    "execution": {
     "iopub.execute_input": "2025-05-09T11:32:39.718722Z",
     "iopub.status.busy": "2025-05-09T11:32:39.718560Z",
     "iopub.status.idle": "2025-05-09T11:32:39.754577Z",
     "shell.execute_reply": "2025-05-09T11:32:39.754220Z",
     "shell.execute_reply.started": "2025-05-09T11:32:39.718712Z"
    }
   },
   "outputs": [],
   "source": [
    "from sklearn.datasets import load_iris"
   ]
  },
  {
   "cell_type": "code",
   "execution_count": 81,
   "id": "2128b49d-bec7-4112-90c1-0c0e79e6c277",
   "metadata": {
    "execution": {
     "iopub.execute_input": "2025-05-09T11:32:44.584172Z",
     "iopub.status.busy": "2025-05-09T11:32:44.583949Z",
     "iopub.status.idle": "2025-05-09T11:32:44.596314Z",
     "shell.execute_reply": "2025-05-09T11:32:44.595801Z",
     "shell.execute_reply.started": "2025-05-09T11:32:44.584161Z"
    }
   },
   "outputs": [],
   "source": [
    "X, y = load_iris(return_X_y=True)"
   ]
  },
  {
   "cell_type": "code",
   "execution_count": 84,
   "id": "17aa19b8-2368-40ad-9c39-042d1bec249b",
   "metadata": {
    "execution": {
     "iopub.execute_input": "2025-05-09T11:32:51.078567Z",
     "iopub.status.busy": "2025-05-09T11:32:51.078386Z",
     "iopub.status.idle": "2025-05-09T11:32:51.081245Z",
     "shell.execute_reply": "2025-05-09T11:32:51.080975Z",
     "shell.execute_reply.started": "2025-05-09T11:32:51.078552Z"
    }
   },
   "outputs": [
    {
     "data": {
      "text/plain": [
       "(150, 4)"
      ]
     },
     "execution_count": 84,
     "metadata": {},
     "output_type": "execute_result"
    }
   ],
   "source": [
    "X.shape"
   ]
  },
  {
   "cell_type": "code",
   "execution_count": 95,
   "id": "951a2642-e6fd-4666-96c2-71e2d1003fe8",
   "metadata": {
    "execution": {
     "iopub.execute_input": "2025-05-09T11:34:29.967820Z",
     "iopub.status.busy": "2025-05-09T11:34:29.967637Z",
     "iopub.status.idle": "2025-05-09T11:34:30.003841Z",
     "shell.execute_reply": "2025-05-09T11:34:30.003564Z",
     "shell.execute_reply.started": "2025-05-09T11:34:29.967807Z"
    }
   },
   "outputs": [
    {
     "data": {
      "text/plain": [
       "(2079, 52)"
      ]
     },
     "execution_count": 95,
     "metadata": {},
     "output_type": "execute_result"
    }
   ],
   "source": [
    "np.stack(all_preds_raw)[:,-1,:].shape"
   ]
  },
  {
   "cell_type": "code",
   "execution_count": 92,
   "id": "f7ad946b-7dee-4738-aba6-28e9b121ef6b",
   "metadata": {
    "execution": {
     "iopub.execute_input": "2025-05-09T11:33:55.685574Z",
     "iopub.status.busy": "2025-05-09T11:33:55.685422Z",
     "iopub.status.idle": "2025-05-09T11:33:55.722002Z",
     "shell.execute_reply": "2025-05-09T11:33:55.721464Z",
     "shell.execute_reply.started": "2025-05-09T11:33:55.685562Z"
    }
   },
   "outputs": [
    {
     "data": {
      "text/plain": [
       "(2079, 512, 52)"
      ]
     },
     "execution_count": 92,
     "metadata": {},
     "output_type": "execute_result"
    }
   ],
   "source": [
    "np.stack(y).shape"
   ]
  },
  {
   "cell_type": "code",
   "execution_count": 117,
   "id": "eda62e30-1bff-4d98-a146-2c33c2f29e00",
   "metadata": {
    "execution": {
     "iopub.execute_input": "2025-05-09T11:47:29.947945Z",
     "iopub.status.busy": "2025-05-09T11:47:29.947765Z",
     "iopub.status.idle": "2025-05-09T11:47:29.951076Z",
     "shell.execute_reply": "2025-05-09T11:47:29.950821Z",
     "shell.execute_reply.started": "2025-05-09T11:47:29.947932Z"
    }
   },
   "outputs": [],
   "source": [
    "for i in range(1):\n",
    "   ts_batch, _, target_batch = test_dataset[i]"
   ]
  },
  {
   "cell_type": "code",
   "execution_count": 118,
   "id": "a8d45b6f-97c2-4ea4-adea-02a0a57b4e63",
   "metadata": {
    "execution": {
     "iopub.execute_input": "2025-05-09T11:47:30.188690Z",
     "iopub.status.busy": "2025-05-09T11:47:30.188507Z",
     "iopub.status.idle": "2025-05-09T11:47:30.228681Z",
     "shell.execute_reply": "2025-05-09T11:47:30.228288Z",
     "shell.execute_reply.started": "2025-05-09T11:47:30.188675Z"
    }
   },
   "outputs": [],
   "source": [
    "pred = model(ts_batch)"
   ]
  },
  {
   "cell_type": "code",
   "execution_count": 120,
   "id": "5ac851a7-8c76-44d8-991a-22e306c45fbb",
   "metadata": {
    "execution": {
     "iopub.execute_input": "2025-05-09T11:47:40.048580Z",
     "iopub.status.busy": "2025-05-09T11:47:40.048400Z",
     "iopub.status.idle": "2025-05-09T11:47:40.051646Z",
     "shell.execute_reply": "2025-05-09T11:47:40.051390Z",
     "shell.execute_reply.started": "2025-05-09T11:47:40.048568Z"
    }
   },
   "outputs": [],
   "source": [
    "target_raw = scaler.inverse_transform(target_batch.cpu().numpy())\n",
    "pred_raw = scaler.inverse_transform(pred.cpu().detach().numpy())"
   ]
  },
  {
   "cell_type": "code",
   "execution_count": 122,
   "id": "f7ed22cc-d769-4380-834f-49134e60d163",
   "metadata": {
    "execution": {
     "iopub.execute_input": "2025-05-09T11:47:45.811369Z",
     "iopub.status.busy": "2025-05-09T11:47:45.811195Z",
     "iopub.status.idle": "2025-05-09T11:47:45.815814Z",
     "shell.execute_reply": "2025-05-09T11:47:45.815520Z",
     "shell.execute_reply.started": "2025-05-09T11:47:45.811358Z"
    },
    "scrolled": true
   },
   "outputs": [
    {
     "data": {
      "text/plain": [
       "array([ 31.908241,  25.697208,  81.618576,  59.84368 ,  34.58808 ,\n",
       "        46.839756,  38.431366,  54.22704 ,  54.03241 ,  57.116505,\n",
       "        78.41063 ,  23.792702,  51.076363,  63.300972,  80.052124,\n",
       "        74.07182 ,  27.11317 ,  44.864174,  38.145996,  43.113285,\n",
       "        32.2557  ,  33.688713,  15.454382,  23.275635,  34.545334,\n",
       "        60.227303,  23.214573,  39.144363,  73.07888 ,  36.963753,\n",
       "        65.78888 ,  41.10652 ,  39.894386,  32.678936,  17.044674,\n",
       "        83.23133 ,  21.759785,  24.408379,  51.064194,  46.839336,\n",
       "        76.30152 ,  26.807709,  45.674355,  85.08299 ,  47.769638,\n",
       "        50.54091 ,  53.14336 ,  46.858974,  56.795174,  29.769001,\n",
       "        38.792385,  31.550787,  32.814102,  42.846527,  46.095905,\n",
       "        74.7869  ,  27.935398,  41.19173 ,  26.36911 ,  59.971626,\n",
       "        82.9887  ,  60.82254 ,  64.97496 ,  16.724476,  76.219795,\n",
       "        48.49908 ,  25.609222,  41.7504  ,  28.379423,  23.721062,\n",
       "        13.250667,  58.017006,  46.30883 ,  36.80745 ,  61.521755,\n",
       "        41.271996,  32.902584,  60.53003 ,  33.74249 ,  35.10436 ,\n",
       "        91.042206,  56.00104 ,  26.035843,  55.122707,  51.709324,\n",
       "        56.7971  ,  38.752544,  21.117931,  50.156635,  21.03033 ,\n",
       "        45.443436,  34.609344,  47.695854,  51.881836,  47.530663,\n",
       "        23.366854,  21.300657,  32.089733,  55.894802,  34.795914,\n",
       "        25.036028,  83.21374 ,  31.279053,  34.45662 ,  31.776186,\n",
       "        30.844418,  31.776049,  56.218826,  35.70219 ,  30.389849,\n",
       "        59.746338, 100.678246,  24.210682,  65.25889 ,  74.211624,\n",
       "        56.945324,  44.95014 ,  39.178005,  61.562016,  41.001472,\n",
       "        24.112991,  75.774124,  66.3098  ,  66.51065 ,  40.061424,\n",
       "        32.737125,  25.91668 ,  25.77031 ,  50.604004,  38.512695,\n",
       "        34.4516  ,  29.459448,  42.05655 ,  57.10417 ,  27.694138,\n",
       "        46.62896 ,  44.647644,  34.705532,  84.09582 ,  45.118343,\n",
       "        52.424088,  45.505554,  50.16229 ,  46.299126,  72.385956,\n",
       "        58.24167 ,  55.003593,  36.39548 ,  47.83753 ,  60.52781 ,\n",
       "        60.527462,  59.27226 ,  43.052246,  24.056854,  38.482376,\n",
       "        65.32183 ,  32.79045 ,  35.196796,  37.731434,  23.130325,\n",
       "        51.373554,  26.43114 ,  60.136063,  63.384697,  72.377045,\n",
       "        68.08272 ,  28.192957,  35.813324,  48.260536,  52.906963,\n",
       "        31.78952 ,  19.459034,  70.04461 ,  64.10536 ,  82.41709 ,\n",
       "        56.478634,  37.13619 ,  22.587368,  55.211624,  35.974052,\n",
       "        61.590473,  29.093697,  62.6239  ,  27.362217,  61.16741 ,\n",
       "        44.08554 ,  26.685295,  42.64245 ,  43.400993,  45.04956 ,\n",
       "        39.282967,  73.10159 ,  50.93581 ,  37.088417,  48.42939 ,\n",
       "        40.71843 ,  21.460695,  68.941055,  32.609108,  39.95544 ,\n",
       "        49.111748,  63.349823,  39.471542,  53.52975 ,  33.213375,\n",
       "       114.71765 ,  41.09959 ,  36.683697,  52.347927,  28.548353,\n",
       "        57.587727,  65.55009 ,  45.510925,  60.646637,  39.158928,\n",
       "        78.76848 ,  70.55601 ,  21.406967,  69.87038 ,  62.62738 ,\n",
       "        71.65378 ,  44.948902,  54.71683 ,  33.344208,  26.602896,\n",
       "        25.535599,  25.436588,  60.020424,  26.235043,  71.42894 ,\n",
       "        38.696358,  10.341638,  25.454441,  46.01838 ,  24.537529,\n",
       "        80.77849 ,  58.619995,  44.70638 ,  40.160904,  38.134342,\n",
       "        37.62107 ,  27.52489 ,  24.258326,  69.20801 ,  50.34867 ,\n",
       "        50.537388,  42.535713,  74.34693 ,  41.39999 ,  75.79581 ,\n",
       "        78.10307 ,  35.733566,  54.117027,  38.872093,  55.27156 ,\n",
       "        35.381065,  42.44982 ,  22.938791,  28.173487,  38.762203,\n",
       "        77.96584 ,  29.823597,  44.440826,  48.99425 ,  41.672413,\n",
       "        44.425793,  55.388374,  22.814573,  50.778107,  45.62617 ,\n",
       "        62.612946,  64.528076,  30.108421,  14.610676,  30.85896 ,\n",
       "        28.556356,  25.88143 ,  38.586124,  27.93618 ,  51.00843 ,\n",
       "        41.51931 ,  37.39155 ,  56.968185,  50.489273,  51.551117,\n",
       "        21.961811,  26.687752,  45.077923,  57.015285,  56.33971 ,\n",
       "        61.694748,  59.957035,  76.16069 ,  76.211494,  19.03561 ,\n",
       "        40.639664,  52.73005 ,  32.1709  ,  63.71539 ,  17.857914,\n",
       "        35.057724,  33.624023,  55.797134,  26.893688,  54.499527,\n",
       "        44.14293 ,  54.643288, 100.88721 ,  14.356824,  58.168613,\n",
       "        47.07244 ,  51.027203,  22.388214,  43.616722,  44.98433 ,\n",
       "        15.754969,  40.691734,  45.46293 ,  43.974987,  29.51884 ,\n",
       "        44.496246,  29.511257,  20.652584,  55.291637,  46.696262,\n",
       "        55.33782 ,  24.228004,  83.81236 ,  37.31552 ,  22.920761,\n",
       "        45.332497,  52.60344 ,  15.600642,  75.20714 ,  35.983097,\n",
       "        35.769093,  26.15306 ,  57.579865,  19.938574,  73.84597 ,\n",
       "        29.193045,  78.265396,  60.79891 ,  52.487267,  25.002136,\n",
       "        42.085297,  41.055984,  43.52637 ,  58.198315,  18.85646 ,\n",
       "        25.272879,  69.41469 ,  24.537767,  27.195755,  18.430532,\n",
       "        79.47815 ,  33.89072 ,  13.626737,  65.747795,  50.82281 ,\n",
       "        65.60468 ,  52.832527,  23.401157,  40.640877,  58.411545,\n",
       "        45.270767,  82.93023 ,  42.823654,  36.729958,  71.73902 ,\n",
       "        34.628735,  25.17987 ,  47.065605,  50.7006  ,  54.02277 ,\n",
       "        59.59977 ,  45.828743,  40.682686,  17.086443,  20.688423,\n",
       "        36.87549 ,  23.543175,  57.491867,  21.40004 ,  54.593987,\n",
       "        56.386223,  33.50454 ,  48.314674,  30.293152,  49.125633,\n",
       "        16.581228,  55.0403  ,  24.467648,  45.65302 ,  15.834572,\n",
       "        82.4486  ,  39.254166,  44.170525,  20.556965,  51.935524,\n",
       "        35.573017,  41.46028 ,  36.110054,  44.4642  ,  58.787136,\n",
       "        23.102339,  40.35489 ,  40.66616 ,  49.79665 ,  34.524467,\n",
       "        32.587616,  60.590942,  43.42536 ,  31.3606  ,  63.721405,\n",
       "        74.43071 ,  39.54459 ,  74.16294 ,  18.134897,  46.92684 ,\n",
       "        49.320442,  51.265553,  82.5735  ,  52.23056 ,  28.89841 ,\n",
       "        22.118893,  41.47503 ,  58.347176,  72.89082 ,  26.871094,\n",
       "        90.365005,  61.402374,  56.569298,  27.593563,  72.12117 ,\n",
       "        40.480576,  41.001286,  69.250046,  25.249123,  94.90948 ,\n",
       "        32.142788,  53.48467 ,  31.6658  ,  59.441513,  18.526833,\n",
       "        35.718063,  38.26509 ,  29.57988 ,  59.829052,  32.251625,\n",
       "        73.821785,  50.001915,  29.758614,  38.074387,  43.937374,\n",
       "        37.63154 ,  81.773605,  24.95504 ,  69.24747 ,  38.511642,\n",
       "        72.30142 ,  38.980927,  50.9295  ,  53.55231 ,  36.94271 ,\n",
       "        40.212326,  30.591705,  28.425547,  36.143997,  44.560684,\n",
       "        79.14752 ,  49.75853 ,  45.183044,  21.4227  ,  34.988876,\n",
       "        32.19615 ,  47.180984,  35.07394 ,  50.270454,  45.76676 ,\n",
       "        47.87216 ,  36.61522 ,  68.011345,  30.32308 ,  45.90535 ,\n",
       "        35.45714 ,  46.001568,  44.25896 ,  28.7779  ,  20.9506  ,\n",
       "        45.54935 ,  67.86058 ,  24.2778  ,  24.48806 ,  63.437855,\n",
       "        33.410442,  89.368416,  19.49364 ,  41.61795 ,  61.859158,\n",
       "        51.591484,  41.018932,  35.04605 ,  34.357204,  31.09432 ,\n",
       "        92.30039 ,  34.090183, 109.24471 ,  78.119255, 118.76407 ,\n",
       "        93.32866 ,  88.74992 ], dtype=float32)"
      ]
     },
     "execution_count": 122,
     "metadata": {},
     "output_type": "execute_result"
    }
   ],
   "source": [
    "abs(pred_raw - target_raw).sum(axis=1)"
   ]
  },
  {
   "cell_type": "code",
   "execution_count": null,
   "id": "5a0a8b94-d110-4bba-8d5a-0965222b2500",
   "metadata": {},
   "outputs": [],
   "source": []
  },
  {
   "cell_type": "code",
   "execution_count": null,
   "id": "5ca9d376-8438-4b09-b497-e5cb69e837f0",
   "metadata": {},
   "outputs": [],
   "source": []
  },
  {
   "cell_type": "code",
   "execution_count": null,
   "id": "8eb3a4c9-b5c9-498a-a8c5-0f8f7044a85c",
   "metadata": {},
   "outputs": [],
   "source": []
  },
  {
   "cell_type": "code",
   "execution_count": null,
   "id": "f5c37029-0c1e-499d-85c1-c7c045c0fb35",
   "metadata": {},
   "outputs": [],
   "source": []
  },
  {
   "cell_type": "code",
   "execution_count": null,
   "id": "2b2e71a6-8299-47c7-acf7-25f83793ae33",
   "metadata": {},
   "outputs": [],
   "source": []
  }
 ],
 "metadata": {
  "kernelspec": {
   "display_name": "torch",
   "language": "python",
   "name": "torch"
  },
  "language_info": {
   "codemirror_mode": {
    "name": "ipython",
    "version": 3
   },
   "file_extension": ".py",
   "mimetype": "text/x-python",
   "name": "python",
   "nbconvert_exporter": "python",
   "pygments_lexer": "ipython3",
   "version": "3.10.15"
  }
 },
 "nbformat": 4,
 "nbformat_minor": 5
}
